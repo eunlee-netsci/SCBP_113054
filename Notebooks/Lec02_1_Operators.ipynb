{
 "cells": [
  {
   "cell_type": "markdown",
   "id": "8a76c5b9",
   "metadata": {},
   "source": [
    "# 1. 자료형 data type"
   ]
  },
  {
   "cell_type": "markdown",
   "id": "87f57700",
   "metadata": {},
   "source": [
    "## 1.0. 다양한 자료형"
   ]
  },
  {
   "cell_type": "code",
   "execution_count": null,
   "id": "cf8e2595",
   "metadata": {},
   "outputs": [],
   "source": [
    "# 리스트 list \n",
    "foods = ['피자', '김치', '떡볶이', 100, 200] # 데이터의 나열, 타입 다양할 수 있음. "
   ]
  },
  {
   "cell_type": "code",
   "execution_count": null,
   "id": "53653d8a",
   "metadata": {},
   "outputs": [],
   "source": [
    "# 딕셔너리 dictionary \n",
    "good_place = {'맛집': '학교 앞 떡볶이', 1000: '다이소'} # 데이터에 이름표를 붙임. "
   ]
  },
  {
   "cell_type": "code",
   "execution_count": null,
   "id": "cb4884df",
   "metadata": {},
   "outputs": [],
   "source": [
    "# 튜플 tuple \n",
    "set_calculation = ('피자', '김치', '떡볶이', 100, 200) \n",
    "# 다양한 데이터 가능, 리스트와 비슷하지만 집합의 개념"
   ]
  },
  {
   "cell_type": "markdown",
   "id": "61d53942",
   "metadata": {},
   "source": [
    "## 1.1. 자료형을 체크해보자."
   ]
  },
  {
   "cell_type": "code",
   "execution_count": null,
   "id": "4b567100",
   "metadata": {},
   "outputs": [],
   "source": [
    "x = 250\n",
    "type(x)"
   ]
  },
  {
   "cell_type": "code",
   "execution_count": null,
   "id": "ef771643",
   "metadata": {},
   "outputs": [],
   "source": [
    "# 동적 형결정 dynamic typing \n",
    "x = 100\n",
    "print(type(x))\n",
    "x = 'fun'\n",
    "print(type(x))"
   ]
  },
  {
   "cell_type": "markdown",
   "id": "0438fd56",
   "metadata": {},
   "source": [
    "### 다음 각 변수의 자료형을 체크해보자. "
   ]
  },
  {
   "cell_type": "code",
   "execution_count": null,
   "id": "9c4d7990",
   "metadata": {},
   "outputs": [],
   "source": [
    "name = '김철수'\n",
    "age = 21 \n",
    "height = 168.5\n",
    "favorite_foods = ['김치', '라면', '피자']\n",
    "time_location = {'1시': 'school', '2시': 'cafe', '3시': 1000}\n",
    "things_to_buy = ('교과서', 10000, 'computer')\n",
    "did_homework = True "
   ]
  },
  {
   "cell_type": "markdown",
   "id": "d087f1f4",
   "metadata": {},
   "source": [
    "## 1.2. 자료형 구분의 중요성 "
   ]
  },
  {
   "cell_type": "code",
   "execution_count": null,
   "id": "9b79ab39",
   "metadata": {},
   "outputs": [],
   "source": [
    "# 예시: + 연산의 경우 \n",
    "# 정수형의 예 \n",
    "x = 10 \n",
    "y = 20 \n",
    "z = x + y "
   ]
  },
  {
   "cell_type": "code",
   "execution_count": null,
   "id": "28fbf34b",
   "metadata": {},
   "outputs": [],
   "source": [
    "# 예시: + 연산의 경우 \n",
    "# 문자형의 예 \n",
    "x = '10' \n",
    "y = '20'\n",
    "z = x + y "
   ]
  },
  {
   "cell_type": "code",
   "execution_count": null,
   "id": "c96cdf6b",
   "metadata": {},
   "outputs": [],
   "source": [
    "# 예시: + 연산의 경우 \n",
    "# 정수형과 문자형의 혼합  \n",
    "x = '10' \n",
    "y = 20\n",
    "z = x + y "
   ]
  },
  {
   "cell_type": "markdown",
   "id": "de3182c6",
   "metadata": {},
   "source": [
    "## 1.3. 자료형을 변환해보자. "
   ]
  },
  {
   "cell_type": "markdown",
   "id": "ecaf10d6",
   "metadata": {},
   "source": [
    "### 1.3.1. 정수를 문자로 "
   ]
  },
  {
   "cell_type": "code",
   "execution_count": null,
   "id": "570f380c",
   "metadata": {},
   "outputs": [],
   "source": [
    "# int -> str \n",
    "x = 100 \n",
    "print('x 의 타입은:', type(x))\n",
    "\n",
    "y = str(100) # int to str \n",
    "print('y 의 타입은:', type(y))\n",
    "\n"
   ]
  },
  {
   "cell_type": "code",
   "execution_count": null,
   "id": "24aa1c99",
   "metadata": {},
   "outputs": [],
   "source": [
    "x_list = ['a', 'b', 100] \n",
    "y_list = str(x_list) # list to str \n",
    "print('리스트 타입', type(x_list),'이', type(y_list),'으로 변환되었습니다:')"
   ]
  },
  {
   "cell_type": "code",
   "execution_count": null,
   "id": "df1b2cfb",
   "metadata": {},
   "outputs": [],
   "source": [
    "y_list"
   ]
  },
  {
   "cell_type": "markdown",
   "id": "34b66dd1",
   "metadata": {},
   "source": [
    "### 1.3.2. 문자를 정수로 "
   ]
  },
  {
   "cell_type": "code",
   "execution_count": null,
   "id": "a4f233ef",
   "metadata": {},
   "outputs": [],
   "source": [
    "x = '3' \n",
    "y = int(x)\n",
    "print(x, '가', y , '로 변환되었습니다')\n",
    "print(x, '의 자료형은', type(x), y, '의 자료형은', type(y), '입니다')"
   ]
  },
  {
   "cell_type": "markdown",
   "id": "4a6441a0",
   "metadata": {},
   "source": [
    "### 1.3.3. 실수를 정수로 "
   ]
  },
  {
   "cell_type": "code",
   "execution_count": null,
   "id": "0ab707f4",
   "metadata": {},
   "outputs": [],
   "source": [
    "x = 3.9 \n",
    "y = int(x)\n",
    "print(x, '가', y , '로 변환되었습니다')\n",
    "print(x, '의 자료형은', type(x), y, '의 자료형은', type(y), '입니다')"
   ]
  },
  {
   "cell_type": "markdown",
   "id": "78204e60",
   "metadata": {},
   "source": [
    "### 1.3.4. 정수를 실수로 "
   ]
  },
  {
   "cell_type": "code",
   "execution_count": null,
   "id": "45a5ecc1",
   "metadata": {},
   "outputs": [],
   "source": [
    "# 정수 1 을 실수로 변환하는 코드를 작성. \n",
    "# '1 의 자료형은 (1의 자료형) 이고, 변환된 1의 자료형은 (변환된 1 의 자료형) 입니다.' 를\n",
    "#  출력하는 코드를 작성하라. "
   ]
  },
  {
   "cell_type": "markdown",
   "id": "ce7e01cc",
   "metadata": {},
   "source": [
    "# 2. 문자열 자료형 "
   ]
  },
  {
   "cell_type": "markdown",
   "id": "ecbec393",
   "metadata": {},
   "source": [
    "## 2.1. 다음에서 에러가 발생하는 이유는 무엇일까? "
   ]
  },
  {
   "cell_type": "code",
   "execution_count": null,
   "id": "4325c7e3",
   "metadata": {
    "scrolled": true
   },
   "outputs": [],
   "source": [
    "stat = \"친구가 \"오늘은 투표 날이야!\"라고 말했다\""
   ]
  },
  {
   "cell_type": "code",
   "execution_count": null,
   "id": "fc637439",
   "metadata": {},
   "outputs": [],
   "source": [
    "# 다음을 다시 실행해 보라. \n",
    "new_stat = \"친구가 \\\"오늘은 투표 날이야!\\\"라고 말했다\""
   ]
  },
  {
   "cell_type": "code",
   "execution_count": null,
   "id": "c0014d23",
   "metadata": {},
   "outputs": [],
   "source": [
    "new_stat"
   ]
  },
  {
   "cell_type": "markdown",
   "id": "353adf5d",
   "metadata": {},
   "source": [
    "## 2.2. 여러 줄의 문자열 표현 "
   ]
  },
  {
   "cell_type": "code",
   "execution_count": null,
   "id": "d61b216f",
   "metadata": {},
   "outputs": [],
   "source": [
    "fruits = 'banana\\napple\\norange '"
   ]
  },
  {
   "cell_type": "code",
   "execution_count": null,
   "id": "0351b59f",
   "metadata": {},
   "outputs": [],
   "source": [
    "print(fruits)"
   ]
  },
  {
   "cell_type": "markdown",
   "id": "f6456023",
   "metadata": {},
   "source": [
    "## 2.3. 이스케이프 문자 "
   ]
  },
  {
   "cell_type": "markdown",
   "id": "bd16a979",
   "metadata": {},
   "source": [
    "### 2.3.1. 프롬프트 실행 "
   ]
  },
  {
   "cell_type": "code",
   "execution_count": null,
   "id": "d9e952bd",
   "metadata": {},
   "outputs": [],
   "source": [
    "# 프롬프트에서 실행할 때 \n",
    "'hello\\tworld\\n!'"
   ]
  },
  {
   "cell_type": "markdown",
   "id": "8a3adc0b",
   "metadata": {},
   "source": [
    "### 2.3.2. print() 에서 실행 "
   ]
  },
  {
   "cell_type": "code",
   "execution_count": null,
   "id": "55e24dfa",
   "metadata": {},
   "outputs": [],
   "source": [
    "#  print() 안에서 실행할 때 \n",
    "print('hello\\tworld\\n!')"
   ]
  },
  {
   "cell_type": "markdown",
   "id": "3859a9a6",
   "metadata": {},
   "source": [
    "## 2.4. 따옴표 x 3 "
   ]
  },
  {
   "cell_type": "code",
   "execution_count": null,
   "id": "6c584853",
   "metadata": {},
   "outputs": [],
   "source": [
    "ex1 = '''Let's go'''"
   ]
  },
  {
   "cell_type": "code",
   "execution_count": null,
   "id": "dce29853",
   "metadata": {},
   "outputs": [],
   "source": [
    "ex2 = ''' 큰 따옴표 (\") 와 작은 따옴표 (')'''"
   ]
  },
  {
   "cell_type": "code",
   "execution_count": null,
   "id": "f8d6965f",
   "metadata": {},
   "outputs": [],
   "source": [
    "ex3 = '줄바꿈을 \n",
    "그냥 하고 싶어요'"
   ]
  },
  {
   "cell_type": "code",
   "execution_count": null,
   "id": "82ce02b2",
   "metadata": {},
   "outputs": [],
   "source": [
    "ex4 = ''' 줄바꿈을 \n",
    "그냥 하고 싶어요 '''"
   ]
  },
  {
   "cell_type": "code",
   "execution_count": null,
   "id": "9dce2a40",
   "metadata": {},
   "outputs": [],
   "source": [
    "# ex4 를 출력해 보세요. "
   ]
  },
  {
   "cell_type": "markdown",
   "id": "eff53bcc",
   "metadata": {},
   "source": [
    "# 3. 부동소수점수 floating point number "
   ]
  },
  {
   "cell_type": "markdown",
   "id": "c3d4a606",
   "metadata": {},
   "source": [
    "## 3.1. 다음의 논리 연산을 테스트해보자. "
   ]
  },
  {
   "cell_type": "code",
   "execution_count": null,
   "id": "711f370d",
   "metadata": {},
   "outputs": [],
   "source": [
    "print(0.1 + 0.1 == 0.2)"
   ]
  },
  {
   "cell_type": "code",
   "execution_count": null,
   "id": "43d4cd06",
   "metadata": {},
   "outputs": [],
   "source": [
    "print(0.1 + 0.1 + 0.1 == 0.3)"
   ]
  },
  {
   "cell_type": "code",
   "execution_count": null,
   "id": "e82e09a1",
   "metadata": {},
   "outputs": [],
   "source": [
    "0.1 + 0.1 + 0.1"
   ]
  },
  {
   "cell_type": "markdown",
   "id": "8fc51278",
   "metadata": {},
   "source": [
    "# 4. 연산자 "
   ]
  },
  {
   "cell_type": "markdown",
   "id": "3dd9be20",
   "metadata": {},
   "source": [
    "## 4.1. 할당 연산자 ="
   ]
  },
  {
   "cell_type": "markdown",
   "id": "8557c374",
   "metadata": {},
   "source": [
    "### 4.1.1. 다중 할당 "
   ]
  },
  {
   "cell_type": "code",
   "execution_count": null,
   "id": "3809b924",
   "metadata": {},
   "outputs": [],
   "source": [
    "x = y = z = 100 \n",
    "print(x,y,z)"
   ]
  },
  {
   "cell_type": "markdown",
   "id": "111945d6",
   "metadata": {},
   "source": [
    "### 4.1.2. 동시 할당"
   ]
  },
  {
   "cell_type": "code",
   "execution_count": null,
   "id": "dcf4b4ce",
   "metadata": {},
   "outputs": [],
   "source": [
    "x, y = 100, 200 \n",
    "print(x, y)"
   ]
  },
  {
   "cell_type": "markdown",
   "id": "16c6ba96",
   "metadata": {},
   "source": [
    "## 4.2. 복합 할당 연산자 "
   ]
  },
  {
   "cell_type": "markdown",
   "id": "ab8ff2f0",
   "metadata": {},
   "source": [
    "##### x 는 100 으로 할당하고, 다음 수식들을 각각 복합 할당 연산자로 변환하여 코딩하고, 값을 print 하여 확인하라. "
   ]
  },
  {
   "cell_type": "code",
   "execution_count": null,
   "id": "5013250b",
   "metadata": {},
   "outputs": [],
   "source": [
    "# (1) x = x * 20 "
   ]
  },
  {
   "cell_type": "code",
   "execution_count": null,
   "id": "a224723e",
   "metadata": {},
   "outputs": [],
   "source": [
    "# (2) x = x / 20 "
   ]
  },
  {
   "cell_type": "code",
   "execution_count": null,
   "id": "65f5cbb4",
   "metadata": {},
   "outputs": [],
   "source": [
    "# (3) x = x - 20 "
   ]
  },
  {
   "cell_type": "code",
   "execution_count": null,
   "id": "8a2195a1",
   "metadata": {},
   "outputs": [],
   "source": [
    "# (4) x = x + 20 "
   ]
  },
  {
   "cell_type": "code",
   "execution_count": null,
   "id": "974ef307",
   "metadata": {},
   "outputs": [],
   "source": [
    "# (5) x = x ** 20 "
   ]
  },
  {
   "cell_type": "markdown",
   "id": "3827ac0e",
   "metadata": {},
   "source": [
    "## 4.3. 비교 연산자 "
   ]
  },
  {
   "cell_type": "code",
   "execution_count": null,
   "id": "289e9858",
   "metadata": {},
   "outputs": [],
   "source": [
    "a, b = 100, 200 "
   ]
  },
  {
   "cell_type": "code",
   "execution_count": null,
   "id": "12bda8ae",
   "metadata": {},
   "outputs": [],
   "source": [
    "a == b"
   ]
  },
  {
   "cell_type": "code",
   "execution_count": null,
   "id": "d613cb56",
   "metadata": {},
   "outputs": [],
   "source": [
    "a != b"
   ]
  },
  {
   "cell_type": "code",
   "execution_count": null,
   "id": "be7740bd",
   "metadata": {},
   "outputs": [],
   "source": [
    "a > b"
   ]
  },
  {
   "cell_type": "code",
   "execution_count": null,
   "id": "b2d7c47c",
   "metadata": {},
   "outputs": [],
   "source": [
    "a >= b"
   ]
  },
  {
   "cell_type": "code",
   "execution_count": null,
   "id": "9bb40427",
   "metadata": {},
   "outputs": [],
   "source": [
    "a < = b # 에러를 수정하라. "
   ]
  },
  {
   "cell_type": "markdown",
   "id": "784a29f7",
   "metadata": {},
   "source": [
    "## 4.4. 논리 연산자 "
   ]
  },
  {
   "cell_type": "markdown",
   "id": "38894e16",
   "metadata": {},
   "source": [
    "### 4.4.1. Boolean 값의 테스트 "
   ]
  },
  {
   "cell_type": "code",
   "execution_count": null,
   "id": "0b45f838",
   "metadata": {},
   "outputs": [],
   "source": [
    "# bool 값의 반환: bool(1), bool(-1), bool(0) 을 입력하고 값을 확인하라. "
   ]
  },
  {
   "cell_type": "code",
   "execution_count": null,
   "id": "7cabb307",
   "metadata": {},
   "outputs": [],
   "source": [
    "# bool 값의 반환: bool(''), bool('hello'), bool([10,20]) 값을 확인하라. "
   ]
  },
  {
   "cell_type": "markdown",
   "id": "3fb26119",
   "metadata": {},
   "source": [
    "### 4.4.2. 논리연산 테스트 "
   ]
  },
  {
   "cell_type": "code",
   "execution_count": null,
   "id": "6c03c7fb",
   "metadata": {},
   "outputs": [],
   "source": [
    "x = True \n",
    "y = False \n",
    "x and y"
   ]
  },
  {
   "cell_type": "code",
   "execution_count": null,
   "id": "67f6c08c",
   "metadata": {},
   "outputs": [],
   "source": [
    "# x 와 y 를 True, False 중에 자유롭게 할당하고, or 와 not 연산을 테스트 해보라. "
   ]
  },
  {
   "cell_type": "markdown",
   "id": "a39b248c",
   "metadata": {},
   "source": [
    "# 5. 랜덤과 math 모듈 "
   ]
  },
  {
   "cell_type": "markdown",
   "id": "cc90d56f",
   "metadata": {},
   "source": [
    "## 5.1. random module 을 import (갖고 온다) 해보자. "
   ]
  },
  {
   "cell_type": "code",
   "execution_count": null,
   "id": "4120a5ef",
   "metadata": {},
   "outputs": [],
   "source": [
    "# import random 을 실행해보자. "
   ]
  },
  {
   "cell_type": "markdown",
   "id": "a3e2dc89",
   "metadata": {},
   "source": [
    "### 5.1.1. random.random() 을 실행해보자. "
   ]
  },
  {
   "cell_type": "code",
   "execution_count": null,
   "id": "69f998b0",
   "metadata": {},
   "outputs": [],
   "source": [
    "# 여기 "
   ]
  },
  {
   "cell_type": "markdown",
   "id": "a3248ce8",
   "metadata": {},
   "source": [
    "### 5.1.2. random.choice() 를 실행해보자. "
   ]
  },
  {
   "cell_type": "code",
   "execution_count": null,
   "id": "82d7d963",
   "metadata": {},
   "outputs": [],
   "source": [
    "# my_food 라는 리스트에 좋아하는 음식을 3개 이상 기록해보자. \n",
    "# random.choice(my_food) 를 두번 이상 출력하는 프린트문을 작성하고, 결과값이 어떻게 달라지는지 확인해보자. "
   ]
  },
  {
   "cell_type": "markdown",
   "id": "ac4b1c71",
   "metadata": {},
   "source": [
    "### 5.1.3. random.randrange()"
   ]
  },
  {
   "cell_type": "code",
   "execution_count": null,
   "id": "35079349",
   "metadata": {},
   "outputs": [],
   "source": [
    "# range() 는 기본 함수로, 시작점부터 끝수까지 (포함하지 않음) 단위 간격으로 출력 \n",
    "# 단위 스텝이 지정 안되면,  1 단위로 기본 세팅 \n",
    "list(range(2, 20, 2))"
   ]
  },
  {
   "cell_type": "code",
   "execution_count": null,
   "id": "c4617691",
   "metadata": {},
   "outputs": [],
   "source": [
    "list(range(2,20))"
   ]
  },
  {
   "cell_type": "code",
   "execution_count": null,
   "id": "95298cb5",
   "metadata": {},
   "outputs": [],
   "source": [
    "random.randrange(2,20,2)"
   ]
  },
  {
   "cell_type": "markdown",
   "id": "b1337867",
   "metadata": {},
   "source": [
    "## 5.2. math module 을 import 해보자. "
   ]
  },
  {
   "cell_type": "code",
   "execution_count": null,
   "id": "1e1ec8d1",
   "metadata": {},
   "outputs": [],
   "source": [
    "# import math 를 실행해보자. "
   ]
  },
  {
   "cell_type": "markdown",
   "id": "601deee7",
   "metadata": {},
   "source": [
    "### 5.2.1. math.pow(3,3) 을 실행해보고, 어떤 연산과 동일한지 생각해보자. "
   ]
  },
  {
   "cell_type": "code",
   "execution_count": null,
   "id": "3f9c2c59",
   "metadata": {},
   "outputs": [],
   "source": [
    "# math.pow(3,3) 실행 "
   ]
  },
  {
   "cell_type": "markdown",
   "id": "88cac6ac",
   "metadata": {},
   "source": [
    "### 5.2.2. math.fabs(-100) 을 실행해보자. 어떤 연산인가? "
   ]
  },
  {
   "cell_type": "code",
   "execution_count": null,
   "id": "b8ccd472",
   "metadata": {},
   "outputs": [],
   "source": [
    "# math.fabs(-100)"
   ]
  },
  {
   "cell_type": "markdown",
   "id": "967f5a1e",
   "metadata": {},
   "source": [
    "### 5.2.3. pi 값을 출력해보자. "
   ]
  },
  {
   "cell_type": "code",
   "execution_count": null,
   "id": "ea77fc55",
   "metadata": {},
   "outputs": [],
   "source": [
    "# math.pi 를 출력해보자. "
   ]
  },
  {
   "cell_type": "markdown",
   "id": "77c4f773",
   "metadata": {},
   "source": [
    "# 6. 주석문"
   ]
  },
  {
   "cell_type": "markdown",
   "id": "94d1479c",
   "metadata": {},
   "source": [
    "## 6.1. 전체 주석문 처리"
   ]
  },
  {
   "cell_type": "code",
   "execution_count": null,
   "id": "f47079c0",
   "metadata": {},
   "outputs": [],
   "source": [
    "# 다음 statement 를 전체 주석처리 하라. \n",
    "print('hello python ')"
   ]
  },
  {
   "cell_type": "markdown",
   "id": "ccad69dc",
   "metadata": {},
   "source": [
    "### 6.2. 여러 줄 주석 처리 하기"
   ]
  },
  {
   "cell_type": "code",
   "execution_count": null,
   "id": "50605e01",
   "metadata": {},
   "outputs": [],
   "source": [
    "# 작은 따옴표 세개를 사용하여 '반지름을 짜는 코드, 작성자: 본인 이름, 날짜: 오늘 날짜' 를\n",
    "# 한 줄씩 넣어서 주석을 추가하라. "
   ]
  },
  {
   "cell_type": "code",
   "execution_count": null,
   "id": "80e0d01f",
   "metadata": {},
   "outputs": [],
   "source": [
    "# 큰 따옴표 세개를 사용하여 '반지름을 짜는 코드, 작성자: 본인 이름, 날짜: 오늘 날짜' 를\n",
    "# 한 줄씩 넣어서 주석을 추가하라. "
   ]
  },
  {
   "cell_type": "markdown",
   "id": "c8710abd",
   "metadata": {},
   "source": [
    "### 6.3. 주석 처리하여 코드 실행하지 않기 "
   ]
  },
  {
   "cell_type": "code",
   "execution_count": null,
   "id": "7d591c8a",
   "metadata": {},
   "outputs": [],
   "source": [
    "# 다음을 실행하고, 결과를 확인하라. \n",
    "\n",
    "print(\"주석은\")\n",
    "# print(\"인터프리터에서 코드로 인식하지 않기 때문에\")\n",
    "print(\"실행되지 않습니다.\")"
   ]
  },
  {
   "cell_type": "code",
   "execution_count": null,
   "id": "73de4ebc",
   "metadata": {},
   "outputs": [],
   "source": []
  }
 ],
 "metadata": {
  "kernelspec": {
   "display_name": "Python 3 (ipykernel)",
   "language": "python",
   "name": "python3"
  },
  "language_info": {
   "codemirror_mode": {
    "name": "ipython",
    "version": 3
   },
   "file_extension": ".py",
   "mimetype": "text/x-python",
   "name": "python",
   "nbconvert_exporter": "python",
   "pygments_lexer": "ipython3",
   "version": "3.8.12"
  }
 },
 "nbformat": 4,
 "nbformat_minor": 5
}
