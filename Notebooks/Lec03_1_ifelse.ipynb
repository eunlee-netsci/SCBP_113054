{
 "cells": [
  {
   "cell_type": "markdown",
   "metadata": {
    "colab_type": "text",
    "id": "view-in-github"
   },
   "source": [
    "<a href=\"https://colab.research.google.com/github/dongupak/Prime-Python/blob/master/jupyter-notebook/Ch03_%EC%A0%9C%EC%96%B4%EB%AC%B8.ipynb\" target=\"_parent\"><img src=\"https://colab.research.google.com/assets/colab-badge.svg\" alt=\"Open In Colab\"/></a>"
   ]
  },
  {
   "cell_type": "markdown",
   "metadata": {
    "colab_type": "text",
    "id": "mhb2bHv3bgCh"
   },
   "source": [
    "\n",
    "# 1. if-else"
   ]
  },
  {
   "cell_type": "markdown",
   "metadata": {},
   "source": [
    "## 1.1. 순차구조 확인 "
   ]
  },
  {
   "cell_type": "code",
   "execution_count": null,
   "metadata": {
    "colab": {
     "base_uri": "https://localhost:8080/",
     "height": 71
    },
    "colab_type": "code",
    "id": "VRYhI00psigl",
    "outputId": "58e007a2-a36f-4073-c26f-23e1fd713126",
    "scrolled": true
   },
   "outputs": [],
   "source": [
    "num = 100\n",
    "print('num =', num)  # 100이 출력됨\n",
    "num = num + 100\n",
    "print('num =', num)  # num에 100이 더해져 200이 출력됨\n",
    "num = num + 100\n",
    "print('num =', num)  # num에 다시 100이 더해져 300이 출력됨"
   ]
  },
  {
   "cell_type": "markdown",
   "metadata": {
    "colab_type": "text",
    "id": "2B_uX1HJsigp"
   },
   "source": [
    "# 2. if 조건문 이해 "
   ]
  },
  {
   "cell_type": "markdown",
   "metadata": {},
   "source": [
    "## 2.1. 흐름도에서 조건을 테스트하는 if 문 이해하기. "
   ]
  },
  {
   "cell_type": "code",
   "execution_count": null,
   "metadata": {
    "colab": {
     "base_uri": "https://localhost:8080/",
     "height": 35
    },
    "colab_type": "code",
    "id": "AMnjvYUisigp",
    "outputId": "d3bd616f-15c2-492e-a9c4-fb3b4aa978ab"
   },
   "outputs": [],
   "source": [
    "age = # age를 입력받으라. \n",
    "ticket = 2000 \n",
    "if age < 기준나이 : # 어떤 나이를 기준으로 나이를 판별할지 채우라.의미: age 가 기준나이 미만이면: \n",
    "    ticket_val = # 기존 ticket 값에서 20% 할인된 값을 ticket_val 에 할당하라. \n",
    "    print('청소년 할인되어 {} 입니다.'.format(XXX)) # format 함수에 ticket_val 이 들어가 출력되게 하라. \n",
    "else: # age 가 기준 나이 이상인 모든 경우에 이 조건이 만족된다. \n",
    "    print('청소년 할인이 적용되지 않아 {} 입니다.'.format(XXX)) # format 함수에 출력되어야 하는 변수값을 넣으라.\n"
   ]
  },
  {
   "cell_type": "markdown",
   "metadata": {
    "colab_type": "text",
    "id": "pi0rSgE3sigu"
   },
   "source": [
    "## 2.2. 걸음걸이 수가 10000 보 이상일 때 '만보 달성' 을 출력해보자. "
   ]
  },
  {
   "cell_type": "code",
   "execution_count": null,
   "metadata": {
    "colab": {
     "base_uri": "https://localhost:8080/",
     "height": 35
    },
    "colab_type": "code",
    "id": "omKRB_bVsigv",
    "outputId": "c2b414d9-12d4-4512-af46-e4df7476b699"
   },
   "outputs": [],
   "source": [
    "walk_count = 1200\n",
    "walk_criteria = 10000\n",
    "\n",
    "if   # walk_count >= 만보 이상인지 아닌지 체크하는 코드 작성\n",
    "    print('만보 달성')\n",
    "else: \n",
    "    print('더 노력하세요.')"
   ]
  },
  {
   "cell_type": "markdown",
   "metadata": {},
   "source": [
    "## 2.3. 게임 사용자의 게임 점수가 1000점 이상이면 '당신은 고수입니다', 그렇지 않으면 '더 노력하세요' 를 출력하는 코드를 작성하라. 사용자의 게임 점수는 input() 함수로 받으라. "
   ]
  },
  {
   "cell_type": "code",
   "execution_count": null,
   "metadata": {},
   "outputs": [],
   "source": [
    "# input 으로 '사용자의 게임 점수를 입력하세요' 라고 지시 후, 게임 점수를 score 에 입력 받으라. \n",
    "# if 문을 사용하여 사용자 점수 score 가 1000 점 이상인지 확인하는 부분을 코딩하라. \n",
    "# 위의 조건이 만족되면, '당신은 고수입니다.'를 출력하도록 하라 (들여쓰기)\n",
    "# 그렇지 않은 모든 경우에 (else)\n",
    "# '더 노력하세요'를 출력하도록 하라 (들여쓰기)"
   ]
  },
  {
   "cell_type": "markdown",
   "metadata": {},
   "source": [
    "## 2.4. 두 값을 입력 받고, 두 같이 같으면 '일치합니다', 아니면 '같지 않습니다.'를 출력하는 코드를 작성하라. "
   ]
  },
  {
   "cell_type": "code",
   "execution_count": null,
   "metadata": {},
   "outputs": [],
   "source": [
    "# num_a, num_b 두 값을 정수로 input 함수를 통해 입력 받으라. \n",
    "# if 문의 조건에서 두 값이 일치하는지 확인하는 코드를 작성\n",
    "# 위의 조건이 참이면, '일치합니다' 를 출력하도록 하고 \n",
    "# 조건이 맞지 않으면, '같지 않습니다' 를 출력하도록 함. "
   ]
  },
  {
   "cell_type": "code",
   "execution_count": 2,
   "metadata": {},
   "outputs": [
    {
     "name": "stdout",
     "output_type": "stream",
     "text": [
      "첫 번째 정수를 입력하세요:100\n",
      "두 번째 정수를 입력하세요:120\n",
      "일치하지 않습니다\n"
     ]
    }
   ],
   "source": [
    "num_a = int(input('첫 번째 정수를 입력하세요:'))\n",
    "num_b = int(input('두 번째 정수를 입력하세요:'))\n",
    "\n",
    "if num_a == num_b : \n",
    "    print('일치합니다')\n",
    "else : \n",
    "    print('일치하지 않습니다')"
   ]
  },
  {
   "cell_type": "markdown",
   "metadata": {
    "colab_type": "text",
    "id": "ic8eJgaSsigx"
   },
   "source": [
    "# 3. 들여쓰기의 중요성 \n"
   ]
  },
  {
   "cell_type": "markdown",
   "metadata": {},
   "source": [
    "## 3.1. 들여쓰지 않으면 어떻게 되나. "
   ]
  },
  {
   "cell_type": "code",
   "execution_count": 3,
   "metadata": {
    "colab": {
     "base_uri": "https://localhost:8080/",
     "height": 136
    },
    "colab_type": "code",
    "id": "2X2phTRxsigx",
    "outputId": "94f7f476-2dc4-44fa-a9ee-3a2368507ddc"
   },
   "outputs": [
    {
     "ename": "IndentationError",
     "evalue": "expected an indented block (3326015277.py, line 4)",
     "output_type": "error",
     "traceback": [
      "\u001b[0;36m  File \u001b[0;32m\"/var/folders/2v/1n7kqbx94vq4h18tf43z16240000gn/T/ipykernel_71623/3326015277.py\"\u001b[0;36m, line \u001b[0;32m4\u001b[0m\n\u001b[0;31m    print('청소년 할인')  # 들여쓰기 없는 print()문\u001b[0m\n\u001b[0m    ^\u001b[0m\n\u001b[0;31mIndentationError\u001b[0m\u001b[0;31m:\u001b[0m expected an indented block\n"
     ]
    }
   ],
   "source": [
    "age = 18\n",
    "\n",
    "if age < 20:\n",
    "print('청소년 할인')  # 들여쓰기 없는 print()문    "
   ]
  },
  {
   "cell_type": "markdown",
   "metadata": {
    "colab_type": "text",
    "id": "QqQ90a3FmGPB"
   },
   "source": [
    "### 3.1.1. 들여서 쓴 print 와 외부 print 문의 실행 "
   ]
  },
  {
   "cell_type": "code",
   "execution_count": null,
   "metadata": {
    "colab": {
     "base_uri": "https://localhost:8080/",
     "height": 53
    },
    "colab_type": "code",
    "id": "UE2yGGH8mF3O",
    "outputId": "b5895ec8-b387-44cc-c180-492af3ba40fe"
   },
   "outputs": [],
   "source": [
    "age = 18 \n",
    "if age < 20:\n",
    "    print('청소년 할인') \n",
    "print('입장을 환영합니다') "
   ]
  },
  {
   "cell_type": "markdown",
   "metadata": {},
   "source": [
    "### 3.1.2. 들여쓴 코드 블록은 조건이 만족되지 않으면 실행 안됨. "
   ]
  },
  {
   "cell_type": "code",
   "execution_count": null,
   "metadata": {
    "colab": {
     "base_uri": "https://localhost:8080/",
     "height": 71
    },
    "colab_type": "code",
    "id": "G3zLzUvVmuir",
    "outputId": "300b622e-4254-4899-e933-440216f9a7d6"
   },
   "outputs": [],
   "source": [
    "age = 24\n",
    "\n",
    "if age < 20:\n",
    "    print('나이', age)\n",
    "    print('청소년 환영')\n",
    "    print('청소년 할인')"
   ]
  },
  {
   "cell_type": "code",
   "execution_count": null,
   "metadata": {},
   "outputs": [],
   "source": [
    "# 위의 코드를 조건이 맞게 age 값을 조정 한 후 다시 실행해보자. "
   ]
  },
  {
   "cell_type": "code",
   "execution_count": 4,
   "metadata": {},
   "outputs": [
    {
     "name": "stdout",
     "output_type": "stream",
     "text": [
      "나이 19\n",
      "청소년 환영\n",
      "청소년 할인\n"
     ]
    }
   ],
   "source": [
    "age = 19\n",
    "\n",
    "if age < 20:\n",
    "    print('나이', age)\n",
    "    print('청소년 환영')\n",
    "    print('청소년 할인')"
   ]
  },
  {
   "cell_type": "markdown",
   "metadata": {},
   "source": [
    "### 3.2. 잘못된 들여쓰기 (한번 결정했으면 통일성있게 사용해야 함.)"
   ]
  },
  {
   "cell_type": "code",
   "execution_count": 6,
   "metadata": {
    "colab": {},
    "colab_type": "code",
    "id": "dqPGtIbdm85j"
   },
   "outputs": [
    {
     "ename": "IndentationError",
     "evalue": "unindent does not match any outer indentation level (<tokenize>, line 6)",
     "output_type": "error",
     "traceback": [
      "\u001b[0;36m  File \u001b[0;32m\"<tokenize>\"\u001b[0;36m, line \u001b[0;32m6\u001b[0m\n\u001b[0;31m    print('청소년 할인')\u001b[0m\n\u001b[0m    ^\u001b[0m\n\u001b[0;31mIndentationError\u001b[0m\u001b[0;31m:\u001b[0m unindent does not match any outer indentation level\n"
     ]
    }
   ],
   "source": [
    "age = 24\n",
    "\n",
    "if age < 20:\n",
    "    print('나이', age)\n",
    "    print('청소년 환영')\n",
    "  print('청소년 할인')"
   ]
  },
  {
   "cell_type": "code",
   "execution_count": null,
   "metadata": {},
   "outputs": [],
   "source": [
    "# 에러를 수정하라. "
   ]
  },
  {
   "cell_type": "markdown",
   "metadata": {
    "colab_type": "text",
    "id": "BIiDK94ksig0"
   },
   "source": [
    "## 3.3. 3 의 배수를 판단하는 코드를 작성하자. "
   ]
  },
  {
   "cell_type": "code",
   "execution_count": null,
   "metadata": {},
   "outputs": [],
   "source": [
    "# input 으로 정수를 입력 받으라. \n",
    "# if 문으로 입력받은 정수가 3의 배수인지 확인하는 코드 작성 \n",
    "# if 에 종속된 블록으로 '(해당 정수 값)는 3의 배수입니다' 를 출력하는 코드 작성. \n",
    "# 그렇지 않은 경우(else)\n",
    "# 그렇지 않은 경우에 종속되어 '(해당 정수 값)은 3의 배수가 아닙니다' 를 출력하도록 함. "
   ]
  },
  {
   "cell_type": "code",
   "execution_count": 7,
   "metadata": {
    "colab": {
     "base_uri": "https://localhost:8080/",
     "height": 35
    },
    "colab_type": "code",
    "id": "laeWNwwIsig3",
    "outputId": "6b22c135-9f25-4013-9a5d-0121cc06bfb7",
    "scrolled": true
   },
   "outputs": [
    {
     "name": "stdout",
     "output_type": "stream",
     "text": [
      "정수를 입력하세요 : 2\n",
      "2 는 3의 배수가 아닙니다.\n"
     ]
    }
   ],
   "source": [
    "number = int(input('정수를 입력하세요 : ')) # 입력값을 정수형으로 변환\n",
    "if (number % 3) == 0:    # 모듈로 3의 값이 0이면 3의 배수임\n",
    "    print(number, '은(는) 3의 배수입니다.')\n",
    "else : \n",
    "    print(number, '는 3의 배수가 아닙니다.')"
   ]
  },
  {
   "cell_type": "markdown",
   "metadata": {},
   "source": [
    "# 4. 비교 연산자를 활용한 if 문 "
   ]
  },
  {
   "cell_type": "markdown",
   "metadata": {},
   "source": [
    "## 4.1. 비교 연산자 복습 "
   ]
  },
  {
   "cell_type": "code",
   "execution_count": null,
   "metadata": {},
   "outputs": [],
   "source": [
    "0 < 10"
   ]
  },
  {
   "cell_type": "code",
   "execution_count": null,
   "metadata": {},
   "outputs": [],
   "source": [
    "4 >= 10 "
   ]
  },
  {
   "cell_type": "code",
   "execution_count": null,
   "metadata": {},
   "outputs": [],
   "source": [
    "1 != 2"
   ]
  },
  {
   "cell_type": "code",
   "execution_count": null,
   "metadata": {},
   "outputs": [],
   "source": [
    "(0.1 + 0.1 + 0.1) == 0.3 "
   ]
  },
  {
   "cell_type": "markdown",
   "metadata": {
    "colab_type": "text",
    "id": "OHJgm4p1sig6"
   },
   "source": [
    "## 4.2. 복합 연산자 and 와 or \n",
    " "
   ]
  },
  {
   "cell_type": "markdown",
   "metadata": {},
   "source": [
    "### 4.2.1. and 를 사용하여 3의 배수인 ** 동시에 ** 5 의 배수인지 확인하는 코드를 작성하자. "
   ]
  },
  {
   "cell_type": "code",
   "execution_count": null,
   "metadata": {
    "colab": {
     "base_uri": "https://localhost:8080/",
     "height": 53
    },
    "colab_type": "code",
    "id": "gekujp3esig7",
    "outputId": "e7e8b2d5-78e3-4710-8fa1-22d26b729e1c"
   },
   "outputs": [],
   "source": [
    "number = int(input('정수를 입력하세요 : ')) \n",
    "if # 3의 배수 '이고' 5의 배수인지 확인하는 복합 조건문을 채우라. \n",
    "    print(number, '은(는) 3의 배수이면서 5의 배수입니다.')\n",
    "else : \n",
    "    print(number, '는 3의 배수이면서 5의 배수가 아닙니다.')"
   ]
  },
  {
   "cell_type": "markdown",
   "metadata": {},
   "source": [
    "## 4.2.2. or 를 사용하여 3의 배수'이거나', 5의 배수 인 숫자를 확인하는 코드를 작성하라. "
   ]
  },
  {
   "cell_type": "code",
   "execution_count": null,
   "metadata": {},
   "outputs": [],
   "source": [
    "# number 에 숫자를 정수로 입력 받는다. \n",
    "# if 문으로 해당 숫자가 3의 배수 '이거나' 5의 배수 인지 확인하는 복합 조건문을 작성하라. \n",
    "# 위의 조건에 종속되는 프린트문으로 '(number) 는 3의 배수이거나 5의 배수입니다.'를 출력하는 코드 작성. \n",
    "# 그 외의 모든 경우에 (else)\n",
    "# '(number)는 3의 배수이거나 5의 배수가 아닙니다.' 를 출력하도록 함. "
   ]
  },
  {
   "cell_type": "code",
   "execution_count": 8,
   "metadata": {},
   "outputs": [
    {
     "name": "stdout",
     "output_type": "stream",
     "text": [
      "정수를 입력하세요 : 3\n",
      "3 는 3의 배수이거나 5의 배수입니다.\n"
     ]
    }
   ],
   "source": [
    "number = int(input('정수를 입력하세요 : ')) \n",
    "if (number % 3 == 0) or (number % 5 == 0) : \n",
    "    print(number, '는 3의 배수이거나 5의 배수입니다.')\n",
    "else : \n",
    "    print(number, '는 3의 배수이거나 5의 배수가 아닙니다.')"
   ]
  },
  {
   "cell_type": "markdown",
   "metadata": {
    "colab_type": "text",
    "id": "wkcCY37asihA"
   },
   "source": [
    "## 4.2.3. 몇 시인지를 입력받아서, 오전인이 오후인지 출력하는 코드를 작성하라. "
   ]
  },
  {
   "cell_type": "code",
   "execution_count": null,
   "metadata": {
    "colab": {
     "base_uri": "https://localhost:8080/",
     "height": 35
    },
    "colab_type": "code",
    "id": "qgjUkqMxsihA",
    "outputId": "84cfcdd3-c948-4695-d9ab-ffa00cf429b2"
   },
   "outputs": [],
   "source": [
    "# 시간을 hour 에 입력 받는다. \n",
    "# 시간이 6시이상 12시 미만이면 (<) 오전을 출력 \n",
    "# 그 외의 경우 오후를 출력 하도록 하라. "
   ]
  },
  {
   "cell_type": "code",
   "execution_count": 9,
   "metadata": {},
   "outputs": [
    {
     "name": "stdout",
     "output_type": "stream",
     "text": [
      "시간을 입력하세요:17\n",
      "오후 17 시 입니다\n"
     ]
    }
   ],
   "source": [
    "hour = int(input('시간을 입력하세요:'))\n",
    "\n",
    "if (hour >=6 ) and (hour <12) : \n",
    "    print('오전 {} 시 입니다'.format(hour))\n",
    "else : \n",
    "    print('오후 {} 시 입니다'.format(hour))"
   ]
  },
  {
   "cell_type": "markdown",
   "metadata": {},
   "source": [
    "## 4.2.4. 윤년을 판별하는 코드를 작성해보자. "
   ]
  },
  {
   "cell_type": "code",
   "execution_count": null,
   "metadata": {},
   "outputs": [],
   "source": [
    "# year 를 1900 이상의 정수로 입력받는다. \n",
    "\n",
    "# 조건 i) 4로 나누어떨어져야하고, ii) 100 으로는 나누어 떨어지면 안된다, iii) 100 으로 나누어 떨어지더라도, 400으로 나누어떨어지는 해는 윤년. \n",
    "# 위의 조건을 만족하는 경우 '(year) 는 윤년입니다.' 를 출력하도록 하고, \n",
    "# 나머지 경우, '(year) 는 평년입니다'를 출력하도록 한다. "
   ]
  },
  {
   "cell_type": "code",
   "execution_count": 12,
   "metadata": {},
   "outputs": [
    {
     "name": "stdout",
     "output_type": "stream",
     "text": [
      "1900 이상의 연도를 입력하세요:2000\n",
      "2000 는 윤년입니다.\n"
     ]
    }
   ],
   "source": [
    "year = int(input('1900 이상의 연도를 입력하세요:'))\n",
    "if ((year % 4 == 0) and (year % 100 != 0)) or (year % 400 == 0) : \n",
    "    print(year, '는 윤년입니다.')\n",
    "else : \n",
    "    print(year, '는 평년입니다.')"
   ]
  },
  {
   "cell_type": "markdown",
   "metadata": {
    "colab_type": "text",
    "id": "DQo7tNI2sihN"
   },
   "source": [
    "# 5. 외부 if-else문과 내부 if-else문의 사용\n",
    "## 5.1.1. 음수인지, 짝수인지 홀수 인지 판별. "
   ]
  },
  {
   "cell_type": "code",
   "execution_count": null,
   "metadata": {
    "colab": {
     "base_uri": "https://localhost:8080/",
     "height": 53
    },
    "colab_type": "code",
    "id": "ohmzDVDysihO",
    "outputId": "242c611b-4e0c-4506-8b8b-e9088e044c17"
   },
   "outputs": [],
   "source": [
    "num = 100\n",
    "\n",
    "if num < 0:\n",
    "    print(num, '은(는) 음수입니다.')\n",
    "else:\n",
    "    print(num, '은(는) 음수가 아닙니다.')\n",
    "    \n",
    "    # 짝수, 홀수는 음수가 아닌 경우에만 판별합니다\n",
    "    if num % 2 == 0:\n",
    "        print(num, '은(는) 짝수입니다.')\n",
    "    else:\n",
    "        print(num, '은(는) 홀수입니다.')"
   ]
  },
  {
   "cell_type": "code",
   "execution_count": null,
   "metadata": {},
   "outputs": [],
   "source": [
    "# num 을 -100 으로 수정하여 실행해보라. "
   ]
  },
  {
   "cell_type": "code",
   "execution_count": 13,
   "metadata": {},
   "outputs": [
    {
     "name": "stdout",
     "output_type": "stream",
     "text": [
      "-100 은(는) 음수입니다.\n"
     ]
    }
   ],
   "source": [
    "num = -100\n",
    "\n",
    "if num < 0:\n",
    "    print(num, '은(는) 음수입니다.')\n",
    "else:\n",
    "    print(num, '은(는) 음수가 아닙니다.')\n",
    "    \n",
    "    # 짝수, 홀수는 음수가 아닌 경우에만 판별합니다\n",
    "    if num % 2 == 0:\n",
    "        print(num, '은(는) 짝수입니다.')\n",
    "    else:\n",
    "        print(num, '은(는) 홀수입니다.')"
   ]
  },
  {
   "cell_type": "markdown",
   "metadata": {},
   "source": [
    "## 5.1.2. 게임 점수의 초급, 중급, 고급 레벨을 정하는 코드 작성. "
   ]
  },
  {
   "cell_type": "code",
   "execution_count": null,
   "metadata": {},
   "outputs": [],
   "source": [
    "score = 300 # 0~1000 점 사이 \n",
    "\n",
    "# 800점 이하는 초중급이고, 800점 초과부터는 고급이다.\n",
    "if # 800점 이하의 점수인지 확인하는 조건문 작성 \n",
    "    if # 800점 이하 중 400점 이하는 '점수 {} 점은 초급 레벨입니다' 를 출력하도록 하라. \n",
    "        print() # 초급을 위한 프린트 문. \n",
    "    else : # 400점 이상의 경우 \n",
    "        print() # '점수 {} 점은 중급 레벨입니다.' 를 출력하도록 함. \n",
    "        \n",
    "else : # 800 점 초과만 만족하는 상태. \n",
    "    print('점수 {} 점은 고급 레벨입니다.'.format(score))"
   ]
  },
  {
   "cell_type": "code",
   "execution_count": null,
   "metadata": {},
   "outputs": [],
   "source": [
    "score = 300 # 0~1000 점 사이 \n",
    "\n",
    "# 800점 이하는 초중급이고, 800점 초과부터는 고급이다.\n",
    "if score <= 800 : # 800점 이하의 점수인지 확인하는 조건문 작성 \n",
    "    if score < 400 : # 800점 이하 중 400점 이하는 '점수 {} 점은 초급 레벨입니다' 를 출력하도록 하라. \n",
    "        print('점수 {} 점은 초급 레벨입니다'.format(score)) # 초급을 위한 프린트 문. \n",
    "    else : # 400점 이상의 경우 \n",
    "        print('점수 {} 점은 중급 레벨입니다'.format(score)) # '점수 {} 점은 중급 레벨입니다.' 를 출력하도록 함. \n",
    "        \n",
    "else : # 800 점 초과만 만족하는 상태. \n",
    "    print('점수 {} 점은 고급 레벨입니다.'.format(score))"
   ]
  },
  {
   "cell_type": "markdown",
   "metadata": {},
   "source": [
    "### 5.1.3. 두 정수를 입력받아서, 같을 경우 '두 값이 일치합니다'를 출력하고, 값이 다르면 '두 값이 일치하지 않습니다.'를 출력하는 프로그램을 if 문을 사용하여 작성하라. 두 값이 일치하는 조건에서, 두 값이 모두 짝수인 경우에 대해서 '둘 다 짝수입니다. 다른 수를 입력해 주세요'를 출력하도록 하라. "
   ]
  },
  {
   "cell_type": "code",
   "execution_count": null,
   "metadata": {},
   "outputs": [],
   "source": [
    "# 여기에 "
   ]
  },
  {
   "cell_type": "code",
   "execution_count": null,
   "metadata": {},
   "outputs": [],
   "source": [
    "num1, num2 = 100, 100 \n",
    "\n",
    "if num1 == num2 : \n",
    "    print('두 값이 일치합니다')\n",
    "    if num1 % 2 == 0 : \n",
    "        print('둘 다 짝수 입니다. 다른 수를 입력해주세요. ')\n",
    "else : \n",
    "    print('두 값이 일치하지 않습니다')"
   ]
  },
  {
   "cell_type": "markdown",
   "metadata": {
    "colab_type": "text",
    "id": "MChhukCSsiho"
   },
   "source": [
    "## 6. if-else-else"
   ]
  },
  {
   "cell_type": "markdown",
   "metadata": {},
   "source": [
    "### 6.1.1. if 문만 사용하여서 점수를 A-F 까지 구분하는 코드를 작성해보자. "
   ]
  },
  {
   "cell_type": "code",
   "execution_count": null,
   "metadata": {},
   "outputs": [],
   "source": [
    "# 여기에 "
   ]
  },
  {
   "cell_type": "code",
   "execution_count": null,
   "metadata": {
    "colab": {
     "base_uri": "https://localhost:8080/",
     "height": 53
    },
    "colab_type": "code",
    "id": "M0RpNI9esihp",
    "outputId": "4225cf73-701f-4817-e95a-0c1edaca4bab"
   },
   "outputs": [],
   "source": [
    "score = int(input('점수를 입력하세요 : '))\n",
    "\n",
    "if score >= 90 :                 # 90 이상인 경우 ‘A’\n",
    "    grade = 'A'\n",
    "if score < 90 and score >= 80 :  # 90 미만 80 이상인 경우 ‘B’\n",
    "    grade = 'B'\n",
    "if score < 80 and score >= 70 :  # 80 미만 70 이상인 경우 ‘C’\n",
    "    grade = 'C'\n",
    "if score < 70 and score >= 60  : # 70 미만 60 이상인 경우 ‘D’\n",
    "    grade = 'D'\n",
    "if score < 60 :                  # 60 미만인 경우 ‘F’\n",
    "    grade = 'F'\n",
    "\n",
    "print('당신의 등급은 :', grade)"
   ]
  },
  {
   "cell_type": "markdown",
   "metadata": {
    "colab_type": "text",
    "id": "5Z-r1Awisihq"
   },
   "source": [
    "### 6.1.2. if-else 를 사용하여 같은 기능을 하는 코드를 작성해보자. "
   ]
  },
  {
   "cell_type": "code",
   "execution_count": null,
   "metadata": {},
   "outputs": [],
   "source": [
    "# 여기에 "
   ]
  },
  {
   "cell_type": "code",
   "execution_count": null,
   "metadata": {
    "colab": {
     "base_uri": "https://localhost:8080/",
     "height": 53
    },
    "colab_type": "code",
    "id": "ntm40LQ1sihr",
    "outputId": "21196e0d-7512-4a2a-f6fe-563ec6712573"
   },
   "outputs": [],
   "source": [
    "score = int(input('점수를 입력하세요 : '))\n",
    "\n",
    "if score >= 90:       # 90 이상인 경우 ‘A’\n",
    "    grade = 'A'\n",
    "else:\n",
    "    if score >= 80 :  # 90 미만 80 이상인 경우 ‘B’\n",
    "        grade = 'B'\n",
    "    else:\n",
    "        if score >= 70:  # 80 미만 70 이상인 경우 ‘C’\n",
    "            grade = 'C'\n",
    "        else:\n",
    "            if score >= 60:  # 70 미만 60 이상인 경우 ‘D’\n",
    "                grade = 'D'\n",
    "            else:            # 60 미만인 경우 ‘F’\n",
    "                grade = 'F'\n",
    "\n",
    "print('당신의 등급은 :', grade)"
   ]
  },
  {
   "cell_type": "markdown",
   "metadata": {
    "colab_type": "text",
    "id": "rbIrHXnFsiht"
   },
   "source": [
    "### 6.1.3. if-elif-else 를 사용하여 점수 구분하는 코드 작성 "
   ]
  },
  {
   "cell_type": "code",
   "execution_count": null,
   "metadata": {},
   "outputs": [],
   "source": [
    "# score 를 입력받는다. \n",
    "# if score 가 90 이상인 경우: A\n",
    "# (elif)사용 score 가 90 이상은 아니지만, 80 이상인 경우: B\n",
    "# (elif)사용 score 가 80 이상은 아니지만, 70 이상인 경우: C\n",
    "# (elif)사용 score 가 70 이상은 아니지만, 60 이상인 경우: D\n",
    "# (else)사용 score 가 60 이상은 아닌 모든 경우: F \n"
   ]
  },
  {
   "cell_type": "code",
   "execution_count": null,
   "metadata": {
    "colab": {
     "base_uri": "https://localhost:8080/",
     "height": 53
    },
    "colab_type": "code",
    "id": "kJ4qbQ6tsiht",
    "outputId": "1424ea97-bae6-45f9-a3fa-51af741aa6bb"
   },
   "outputs": [],
   "source": [
    "score = int(input('점수를 입력하세요 : '))\n",
    "\n",
    "if score >= 90:    # 90 이상인 경우 'A'\n",
    "    grade = 'A'\n",
    "elif score >= 80:  # 'A'가 아닌 경우, 80 이상이면 'B'\n",
    "    grade = 'B'\n",
    "elif score >= 70:  # 'B'도 아닌 경우, 70 이상이면 'C'\n",
    "    grade = 'C'\n",
    "elif score >= 60:  # 'C'도 아닌 경우, 60 이상이면 'D'\n",
    "    grade = 'D'\n",
    "else:              # 그 외의 경우 'F'\n",
    "    grade = 'F'\n",
    "    \n",
    "print('당신의 등급은 :', grade)"
   ]
  },
  {
   "cell_type": "markdown",
   "metadata": {},
   "source": [
    "## 6.2. 자동차의 속도를 입력 받아서, 100 km/h 이상이면 '고속', 100km/h 미만 60 km/h 이상이면 '적정 속도', 60 km/h 이하이면 '저속' 을 출력하는 프로그램을 if-elif-else 문을 사용하여 작성하라. "
   ]
  },
  {
   "cell_type": "code",
   "execution_count": null,
   "metadata": {},
   "outputs": [],
   "source": [
    "# 속도를 speed 에 정수로 입력 받으라. \n",
    "if # 속도가 100 이상인 경우를 확인하는 조건문 작성: \n",
    "    # 100 이상인 경우 '고속' 을 출력하도록 함. \n",
    "elif # 속도가 60 이상인 경우를 확인하는 조건문 작성: \n",
    "    # 60 이상인 경우 '적정속도' 를 출력하도록 함. \n",
    "else : # 60 이하의 경우 \n",
    "    # '저속'을 출력하도록 함. \n",
    "    "
   ]
  },
  {
   "cell_type": "code",
   "execution_count": null,
   "metadata": {},
   "outputs": [],
   "source": [
    "speed = int(input('속도를 입력하세요:'))\n",
    "\n",
    "if speed >= 100 : \n",
    "    print('고속')\n",
    "elif speed >= 60 : \n",
    "    print('적정속도')\n",
    "else : \n",
    "    print('저속')"
   ]
  },
  {
   "cell_type": "markdown",
   "metadata": {},
   "source": [
    "## 6.3. 동전을 골라서 던지는 게임을 해보자. "
   ]
  },
  {
   "cell_type": "raw",
   "metadata": {},
   "source": [
    "50원, 100원, 500원 동전 중에 하나를 골라서 던져 앞면이 나오면 동전의 값만큼 점수를 더하는 코드를 작성해보자. "
   ]
  },
  {
   "cell_type": "code",
   "execution_count": null,
   "metadata": {},
   "outputs": [],
   "source": [
    "# random module 을 import 한다. \n",
    "coin_list = [50, 100, 500] # 동전이 저장되어있는 리스트, 동전 주머니라고 하자. \n",
    "coin_side = ['front', 'back'] # 동전의 앞면과 뒷면이 저장. \n",
    "random_coin = # random 모듈을 사용해서 동전 리스트 중 하나를 임의로 선택하자. \n",
    "\n",
    "if # random_coin 이 50 이면: \n",
    "    # temp_side 에 coin_side 중 하나를 무작위로 골라 할당한다. \n",
    "    if # temp_side 가 front 이면: \n",
    "        # '점수는 50 입니다' 를 출력한다. \n",
    "    else: # back 이면 \n",
    "        # '점수를 얻지 못했습니다.'를 출력한다. \n",
    "        \n",
    "elif # random_coin 이 100 이면: \n",
    "    # 동일하게 앞뒤를 무작위로 고른 후, 앞면이면 '점수는 100 입니다' 를 출력하도록 함. \n",
    "else: # 이 경우에는 어떤 coin 을 고른 걸까? \n",
    "    # 동일하게 앞뒤를 무작위로 고른 후, 앞면이면 '점수는 500 입니다' 를 출력하도록 함. \n",
    "    "
   ]
  },
  {
   "cell_type": "code",
   "execution_count": 17,
   "metadata": {},
   "outputs": [
    {
     "name": "stdout",
     "output_type": "stream",
     "text": [
      "점수를 얻지 못했습니다.\n"
     ]
    }
   ],
   "source": [
    "import random # random module 을 import 한다. \n",
    "\n",
    "coin_list = [50, 100, 500] # 동전이 저장되어있는 리스트, 동전 주머니라고 하자. \n",
    "coin_side = ['front', 'back'] # 동전의 앞면과 뒷면이 저장. \n",
    "random_coin = random.choice(coin_list) # random 모듈을 사용해서 동전 리스트 중 하나를 임의로 선택하자. \n",
    "\n",
    "if random_coin == 50 : \n",
    "    temp_side = random.choice(coin_side) # temp_side 에 coin_side 중 하나를 무작위로 골라 할당한다. \n",
    "    if temp_side == 'front' : # temp_side 가 front 이면: \n",
    "        print('점수는 50 입니다.') # '점수는 50 입니다' 를 출력한다. \n",
    "    else: # back 이면 \n",
    "        print('점수를 얻지 못했습니다.')# '점수를 얻지 못했습니다.'를 출력한다. \n",
    "        \n",
    "elif random_coin == 100 : # random_coin 이 100 이면: \n",
    "    temp_side = random.choice(coin_side)\n",
    "    if temp_side == 'front' : # temp_side 가 front 이면: \n",
    "        print('점수는 100 입니다.') # '점수는 50 입니다' 를 출력한다. \n",
    "    else: # back 이면 \n",
    "        print('점수를 얻지 못했습니다.')# '점수를 얻지 못했습니다.'를 출력한다. \n",
    "else: # 이 경우에는 어떤 coin 을 고른 걸까? \n",
    "    temp_side = random.choice(coin_side)\n",
    "    if temp_side == 'front' : # temp_side 가 front 이면: \n",
    "        print('점수는 500 입니다.') # '점수는 50 입니다' 를 출력한다. \n",
    "    else: # back 이면 \n",
    "        print('점수를 얻지 못했습니다.')# '점수를 얻지 못했습니다.'를 출력한다. \n",
    "    "
   ]
  },
  {
   "cell_type": "code",
   "execution_count": null,
   "metadata": {},
   "outputs": [],
   "source": []
  },
  {
   "cell_type": "code",
   "execution_count": null,
   "metadata": {},
   "outputs": [],
   "source": []
  }
 ],
 "metadata": {
  "colab": {
   "collapsed_sections": [],
   "include_colab_link": true,
   "name": "Ch03-제어문.ipynb",
   "provenance": []
  },
  "kernelspec": {
   "display_name": "Python 3 (ipykernel)",
   "language": "python",
   "name": "python3"
  },
  "language_info": {
   "codemirror_mode": {
    "name": "ipython",
    "version": 3
   },
   "file_extension": ".py",
   "mimetype": "text/x-python",
   "name": "python",
   "nbconvert_exporter": "python",
   "pygments_lexer": "ipython3",
   "version": "3.8.12"
  }
 },
 "nbformat": 4,
 "nbformat_minor": 1
}
