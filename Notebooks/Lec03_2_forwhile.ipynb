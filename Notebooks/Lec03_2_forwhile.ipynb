{
 "cells": [
  {
   "cell_type": "markdown",
   "id": "d68150b5",
   "metadata": {},
   "source": [
    "# 0. for 문은 반복적인 연산을 수행할 때 사용한다. "
   ]
  },
  {
   "cell_type": "markdown",
   "id": "12d4eb17",
   "metadata": {},
   "source": [
    "## 0.0. for 의 친구 range()"
   ]
  },
  {
   "cell_type": "code",
   "execution_count": null,
   "id": "441a3637",
   "metadata": {},
   "outputs": [],
   "source": [
    "# (1) stop 만 입력 된 경우 \n",
    "print(list(range(5)))"
   ]
  },
  {
   "cell_type": "code",
   "execution_count": null,
   "id": "a2b3cd1a",
   "metadata": {},
   "outputs": [],
   "source": [
    "# (2) start, stop 이 입력된 경우 \n",
    "print(list(range(2, 5)))"
   ]
  },
  {
   "cell_type": "code",
   "execution_count": null,
   "id": "75bd3781",
   "metadata": {},
   "outputs": [],
   "source": [
    "# (3) start, stop, step 이 입력된 경우 \n",
    "print(list(range(2, 5, 2)))"
   ]
  },
  {
   "cell_type": "code",
   "execution_count": null,
   "id": "53cc422c",
   "metadata": {},
   "outputs": [],
   "source": [
    "# (4) 음수에서의 활용\n",
    "print(list(range(-2,-10,-2)))"
   ]
  },
  {
   "cell_type": "markdown",
   "id": "049f4e5b",
   "metadata": {},
   "source": [
    "## 0.1. 5번 welcome to everyone! "
   ]
  },
  {
   "cell_type": "code",
   "execution_count": null,
   "id": "b285c5df",
   "metadata": {},
   "outputs": [],
   "source": [
    "for XXX in range(XXX) : # for 문에 종속된 print 를 5번 수행하도록 작성 \n",
    "    print(\"XXX\") # 'welcome to everyone' 을 출력하도록 함. "
   ]
  },
  {
   "cell_type": "markdown",
   "id": "0d7da53a",
   "metadata": {},
   "source": [
    "## 0.1.1. 변수의 이름을 통일한다. "
   ]
  },
  {
   "cell_type": "code",
   "execution_count": null,
   "id": "1134e71b",
   "metadata": {},
   "outputs": [],
   "source": [
    "for XXX in range(10) : # range 에서 받은 반복 횟수를 특정 변수에 저장. \n",
    "    print('{} 번째로 Welcome 합니다'.format(XXX)) # 그 횟수를 함께 출력하도록 함. "
   ]
  },
  {
   "cell_type": "markdown",
   "id": "2c67d0b6",
   "metadata": {},
   "source": [
    "## 0.1.2. range() 와 list() 함수를 사용하여 다음의 리스트를 만들라. "
   ]
  },
  {
   "cell_type": "code",
   "execution_count": null,
   "id": "df002ef0",
   "metadata": {},
   "outputs": [],
   "source": [
    "# (1) 1 이상 100 이하 (100 포함) 짝수 리스트 "
   ]
  },
  {
   "cell_type": "code",
   "execution_count": null,
   "id": "4de31358",
   "metadata": {},
   "outputs": [],
   "source": [
    "# (2) 1 이상 100 이하 홀수 리스트 "
   ]
  },
  {
   "cell_type": "code",
   "execution_count": null,
   "id": "3a60ecda",
   "metadata": {},
   "outputs": [],
   "source": [
    "# (3) -100 보다 크고 0 보다 작은 10씩 커지는 음수 리스트 (예: -90, -80, -70, ...)"
   ]
  },
  {
   "cell_type": "markdown",
   "id": "714c9de9",
   "metadata": {},
   "source": [
    "## 0.2. for 에서 연이어 출력되게 하기. "
   ]
  },
  {
   "cell_type": "code",
   "execution_count": null,
   "id": "232cf6b5",
   "metadata": {},
   "outputs": [],
   "source": [
    "for XXX in range(5) : \n",
    "    print(XXX, end = '') # end 의 default 값을 줄바꿈이 아닌 space 로 "
   ]
  },
  {
   "cell_type": "markdown",
   "id": "41693883",
   "metadata": {},
   "source": [
    "## 0.2.1. for 와 간격값 사용 예 "
   ]
  },
  {
   "cell_type": "code",
   "execution_count": null,
   "id": "a508cb59",
   "metadata": {},
   "outputs": [],
   "source": [
    "# (1) 연속값 2,3,4 를 연이어 출력하도록 함. \n",
    "for XXX in range(XX, XX) : \n",
    "    print(XXX, end = XXX) # X 들의 값을 바꾸어보라. "
   ]
  },
  {
   "cell_type": "code",
   "execution_count": null,
   "id": "2f7b9306",
   "metadata": {},
   "outputs": [],
   "source": [
    "# (2) 연속값 2,4,6,8 를 연이어 출력하도록 함. \n",
    "for XXX in range(XX, XX, XX) : \n",
    "    print(XXX, end = XXX) # X 들의 값을 바꾸어보라. "
   ]
  },
  {
   "cell_type": "code",
   "execution_count": null,
   "id": "342c9cba",
   "metadata": {},
   "outputs": [],
   "source": [
    "# (3) 연속값 -2,-4,-6,-8 을  연이어 출력하도록 함. \n",
    "for XXX in range(XX, XX, XX) : \n",
    "    print(XXX, end = XXX) # X 들의 값을 바꾸어보라. "
   ]
  },
  {
   "cell_type": "markdown",
   "id": "763be366",
   "metadata": {},
   "source": [
    "# 1. for 를 활용한 연산 "
   ]
  },
  {
   "cell_type": "markdown",
   "id": "1e61bd5f",
   "metadata": {},
   "source": [
    "## 1.1. 리스트 a = [1,2,3,4,5] 의 각 값을 2 씩 증가시킨 새로운 리스트를 만들려면? "
   ]
  },
  {
   "cell_type": "code",
   "execution_count": null,
   "id": "9bc8c9fb",
   "metadata": {},
   "outputs": [],
   "source": [
    "# 다음의 코드 각 라인에 주석을 달아 어떤 일을 하는지 기록. \n",
    "# 그리고 비어있는 XXX 를 채우라. "
   ]
  },
  {
   "cell_type": "code",
   "execution_count": null,
   "id": "b94bf1b8",
   "metadata": {},
   "outputs": [],
   "source": [
    "a = [1,2,3,4,5]\n",
    "new_a = []\n",
    "\n",
    "for temp_val in a :\n",
    "    temp_val += 2\n",
    "    new_a.append(temp_val)\n",
    "    print(temp_val,'이 추가된 새로운 리스트 new_a', new_a) \n",
    "\n",
    "print('최종적인 new_a는 {}'.format(new_a)) \n",
    "    "
   ]
  },
  {
   "cell_type": "markdown",
   "id": "4ca857aa",
   "metadata": {},
   "source": [
    "## 1.2. for 문을 활용하여 1-10까지 정수의 합을 구하는 코드를 작성하려면? "
   ]
  },
  {
   "cell_type": "code",
   "execution_count": null,
   "id": "b404841b",
   "metadata": {},
   "outputs": [],
   "source": [
    "# 다음 코드의 각 줄에 주석을 달고, XX 부분을 채우라. "
   ]
  },
  {
   "cell_type": "code",
   "execution_count": null,
   "id": "d93014dc",
   "metadata": {},
   "outputs": [],
   "source": [
    "total = 0 \n",
    "\n",
    "for temp_item in range(XX, XX) : \n",
    "    total += XXX \n",
    "    print(temp_item, '이 더해져서 총 합은 ', total, '이 됩니다.')\n",
    "print('최종적인 합은 {} 입니다'.format(XXX))"
   ]
  },
  {
   "cell_type": "markdown",
   "id": "a92f66a8",
   "metadata": {},
   "source": [
    "### 1.2.1. 초기화를 for 안에서 하는 것과 어떻게 다를까? "
   ]
  },
  {
   "cell_type": "code",
   "execution_count": 6,
   "id": "3db8144b",
   "metadata": {},
   "outputs": [
    {
     "name": "stdout",
     "output_type": "stream",
     "text": [
      "0 이 더해져서 총 합은  0 이 됩니다.\n",
      "1 이 더해져서 총 합은  1 이 됩니다.\n",
      "2 이 더해져서 총 합은  2 이 됩니다.\n",
      "3 이 더해져서 총 합은  3 이 됩니다.\n",
      "4 이 더해져서 총 합은  4 이 됩니다.\n",
      "5 이 더해져서 총 합은  5 이 됩니다.\n",
      "6 이 더해져서 총 합은  6 이 됩니다.\n",
      "7 이 더해져서 총 합은  7 이 됩니다.\n",
      "8 이 더해져서 총 합은  8 이 됩니다.\n",
      "9 이 더해져서 총 합은  9 이 됩니다.\n",
      "10 이 더해져서 총 합은  10 이 됩니다.\n",
      "최종적인 합은 10 입니다\n"
     ]
    }
   ],
   "source": [
    "total = 0 \n",
    "\n",
    "for temp_item in range(0, 11) : \n",
    "    total = 0 \n",
    "    total += temp_item\n",
    "    print(temp_item, '이 더해져서 총 합은 ', total, '이 됩니다.')\n",
    "print('최종적인 합은 {} 입니다'.format(total))"
   ]
  },
  {
   "cell_type": "markdown",
   "id": "e527bb3e",
   "metadata": {},
   "source": [
    "## 1.3. for 문으로 1부터 임의의 수 n 까지를 더하는데, 더하다가 총 합이 짝수가 되면 반으로 나누고, 홀수면 두배 한다. "
   ]
  },
  {
   "cell_type": "code",
   "execution_count": null,
   "id": "a69f1acd",
   "metadata": {},
   "outputs": [],
   "source": [
    "# 각 라인에서 하는 일을 주석으로 설명하라. \n",
    "\n",
    "n = int(input('더하기를 진행할 임의의 수 n 을 입력하세요:'))\n",
    "total = XX \n",
    "for temp_val in range(1, XXX ) : \n",
    "    total # 현재 값을 total 에 더하는 코드 작성 \n",
    "    print('지금 값은 {}이고, 현재 총 합은 {} 입니다'.format(temp_val, XXXX ))\n",
    "\n",
    "    if # 더해진 값이 짝수인지 확인하는 코드 작성 \n",
    "        # 짝수인 경우 total 의 값을 반으로 나누어 다시 total 에 할당하는 코드 (복합 연산자)\n",
    "        print('해당 값이 짝수여서, 전체 합이 반으로 나뉘어 {} 가 되었습니다'.format(XXX))\n",
    "    else: \n",
    "        # 홀수인 경우 total 의 값을 두배로 하여 다시 total 에 할당하는 코드 (복합 연산자)\n",
    "        print('해당 값이 홀수여서, 전체 합이 두배가 되어 {} 가 되었습니다'.format(XXX))\n",
    "print('최종 합은 {} 입니다'.format(total))"
   ]
  },
  {
   "cell_type": "code",
   "execution_count": 12,
   "id": "4a156e95",
   "metadata": {},
   "outputs": [
    {
     "name": "stdout",
     "output_type": "stream",
     "text": [
      "더하기를 진행할 임의의 수 n 을 입력하세요:5\n",
      "지금 값은 1이고, 현재 총 합은 1 입니다\n",
      "1\n",
      "해당 값이 홀수여서, 전체 합이 두배가 되어 2 가 되었습니다\n",
      "지금 값은 2이고, 현재 총 합은 4 입니다\n",
      "해당 값이 짝수여서, 전체 합이 반으로 나뉘어 2.0 가 되었습니다\n",
      "지금 값은 3이고, 현재 총 합은 5.0 입니다\n",
      "5.0\n",
      "해당 값이 홀수여서, 전체 합이 두배가 되어 10.0 가 되었습니다\n",
      "지금 값은 4이고, 현재 총 합은 14.0 입니다\n",
      "해당 값이 짝수여서, 전체 합이 반으로 나뉘어 7.0 가 되었습니다\n",
      "최종 합은 7.0 입니다\n"
     ]
    }
   ],
   "source": [
    "n = int(input('더하기를 진행할 임의의 수 n 을 입력하세요:'))\n",
    "total = 0 \n",
    "for temp_val in range(1, n ) : \n",
    "    total += temp_val # 현재 값을 total 에 더하는 코드 작성 \n",
    "    print('지금 값은 {}이고, 현재 총 합은 {} 입니다'.format(temp_val, total ))\n",
    "\n",
    "    if total % 2 == 0 : # 더해진 값이 짝수인지 확인하는 코드 작성 \n",
    "        total /= 2 # 짝수인 경우 total 의 값을 반으로 나누어 다시 total 에 할당하는 코드 (복합 연산자)\n",
    "        print('해당 값이 짝수여서, 전체 합이 반으로 나뉘어 {} 가 되었습니다'.format(total))\n",
    "    else: \n",
    "        print(total)\n",
    "        total *= 2 # 홀수인 경우 total 의 값을 두배로 하여 다시 total 에 할당하는 코드 (복합 연산자)\n",
    "        print('해당 값이 홀수여서, 전체 합이 두배가 되어 {} 가 되었습니다'.format(total))\n",
    "print('최종 합은 {} 입니다'.format(total))"
   ]
  },
  {
   "cell_type": "markdown",
   "id": "c755fba7",
   "metadata": {},
   "source": [
    "## 1.4.1. 1 부터 100까지 수 중에서 짝수만 더하는 코드를 작성하라. "
   ]
  },
  {
   "cell_type": "code",
   "execution_count": null,
   "id": "16fbd93b",
   "metadata": {},
   "outputs": [],
   "source": [
    "# 여기에 "
   ]
  },
  {
   "cell_type": "code",
   "execution_count": 14,
   "id": "55fad4a4",
   "metadata": {},
   "outputs": [
    {
     "name": "stdout",
     "output_type": "stream",
     "text": [
      "2550\n"
     ]
    }
   ],
   "source": [
    "total = 0 \n",
    "for i in range(0,102, 2) : \n",
    "    total += i \n",
    "print(total)"
   ]
  },
  {
   "cell_type": "markdown",
   "id": "9f8c92a4",
   "metadata": {},
   "source": [
    "## 1.4.2. 1 부터 100까지 3의 배수이고, 5의 배수인 수만 더하는 코드를 작성하라. (도전)"
   ]
  },
  {
   "cell_type": "code",
   "execution_count": null,
   "id": "c76060ee",
   "metadata": {},
   "outputs": [],
   "source": [
    "# 여기에 "
   ]
  },
  {
   "cell_type": "code",
   "execution_count": 15,
   "id": "e67e2bde",
   "metadata": {},
   "outputs": [
    {
     "name": "stdout",
     "output_type": "stream",
     "text": [
      "315\n"
     ]
    }
   ],
   "source": [
    "total = 0 \n",
    "\n",
    "for i in range(1, 101, 1) : \n",
    "    if (i % 3 == 0) and (i % 5 == 0) : \n",
    "        total += i \n",
    "print(total)"
   ]
  },
  {
   "cell_type": "markdown",
   "id": "bdfbe40b",
   "metadata": {},
   "source": [
    "## 1.4.3. 1부터 정수 n 까지의 곱을 구하는 코드 작성 "
   ]
  },
  {
   "cell_type": "code",
   "execution_count": null,
   "id": "90548f2d",
   "metadata": {},
   "outputs": [],
   "source": [
    "# 여기에 정수 n 을 입력받아서 계산하라. "
   ]
  },
  {
   "cell_type": "code",
   "execution_count": 16,
   "id": "7c4f9633",
   "metadata": {},
   "outputs": [
    {
     "name": "stdout",
     "output_type": "stream",
     "text": [
      "수를 입력하세요 : 3\n",
      "3! = 6\n"
     ]
    }
   ],
   "source": [
    "n = int(input('수를 입력하세요 : '))\n",
    "fact = 1\n",
    "\n",
    "for i in range(1, n+1):\n",
    "    fact = fact * i\n",
    "\n",
    "print('{}! = {}'.format(n, fact))\n"
   ]
  },
  {
   "cell_type": "markdown",
   "id": "16ea8c0f",
   "metadata": {},
   "source": [
    "## 2. for 와 리스트를 활용한 연산 "
   ]
  },
  {
   "cell_type": "markdown",
   "id": "20b80a33",
   "metadata": {},
   "source": [
    "## 2.1. 각각의 반지름에 해당하는 원의 넓이를 구해보자. "
   ]
  },
  {
   "cell_type": "code",
   "execution_count": null,
   "id": "2c6a2cbf",
   "metadata": {},
   "outputs": [],
   "source": [
    "# 다음 코드의 각 줄마다 하는 일을 주석으로 설명하고, 빈칸 XXX 에 맞는 코딩을 하라. \n",
    "# math 모듈을 import 하여 math 모듈에 있는 pi 를 사용하여라. \n",
    "\n",
    "rad_list = [3,4,5] # 각 원의 반지름들이 들어있는 리스트 \n",
    "\n",
    "for temp_rad in XXX :\n",
    "    temp_area = XXX \n",
    "    print('반지름이 {} 일 때, 원의 넓이는 {} 입니다'.format(temp_rad, temp_area))\n",
    "    "
   ]
  },
  {
   "cell_type": "code",
   "execution_count": 17,
   "id": "33be514d",
   "metadata": {},
   "outputs": [
    {
     "name": "stdout",
     "output_type": "stream",
     "text": [
      "반지름이 3 일 때, 원의 넓이는 28.274333882308138 입니다\n",
      "반지름이 4 일 때, 원의 넓이는 50.26548245743669 입니다\n",
      "반지름이 5 일 때, 원의 넓이는 78.53981633974483 입니다\n"
     ]
    }
   ],
   "source": [
    "# 다음 코드의 각 줄마다 하는 일을 주석으로 설명하고, 빈칸 XXX 에 맞는 코딩을 하라. \n",
    "# math 모듈을 import 하여 math 모듈에 있는 pi 를 사용하여라. \n",
    "\n",
    "import math \n",
    "\n",
    "pi = math.pi \n",
    "rad_list = [3,4,5] # 각 원의 반지름들이 들어있는 리스트 \n",
    "\n",
    "for temp_rad in rad_list :\n",
    "    temp_area = temp_rad ** 2 * pi\n",
    "    print('반지름이 {} 일 때, 원의 넓이는 {} 입니다'.format(temp_rad, temp_area))\n",
    "    "
   ]
  },
  {
   "cell_type": "markdown",
   "id": "dc0f5489",
   "metadata": {},
   "source": [
    "## 2.2. 문자열을 돌려가며 출력해 보도록 한다. "
   ]
  },
  {
   "cell_type": "code",
   "execution_count": null,
   "id": "5e9d861a",
   "metadata": {},
   "outputs": [],
   "source": [
    "# 다음 코드를 실행하여, '오늘 수업을 재미있게 만들자!' 로 출력되게 수정하라. \n",
    "\n",
    "ordered_stat = ['오늘', '수업을', '재미있', '게', '만들자', '!']\n",
    "\n",
    "for temp_word in ordered_stat : \n",
    "    print(temp_word, end = '')"
   ]
  },
  {
   "cell_type": "code",
   "execution_count": 23,
   "id": "ecec9788",
   "metadata": {},
   "outputs": [
    {
     "name": "stdout",
     "output_type": "stream",
     "text": [
      "오늘 수업을 재미있게 만들자! "
     ]
    }
   ],
   "source": [
    "\n",
    "ordered_stat = ['오늘', '수업을', '재미있', '게', '만들자', '!']\n",
    "\n",
    "for temp_word in ordered_stat : \n",
    "    if (temp_word == '재미있') or (temp_word == '만들자') : \n",
    "        print(temp_word, end = '')\n",
    "    else : \n",
    "        print(temp_word, end = ' ')\n",
    "    "
   ]
  },
  {
   "cell_type": "markdown",
   "id": "b18ba402",
   "metadata": {},
   "source": [
    "## 2.3. 다음 문자열을 for 로 출력하면 어떻게 될까? "
   ]
  },
  {
   "cell_type": "code",
   "execution_count": 24,
   "id": "78126aed",
   "metadata": {},
   "outputs": [
    {
     "name": "stdout",
     "output_type": "stream",
     "text": [
      "h\n",
      "e\n",
      "l\n",
      "l\n",
      "o\n"
     ]
    }
   ],
   "source": [
    "test = 'hello'\n",
    "\n",
    "for temp_word in test : \n",
    "    print(temp_word)"
   ]
  },
  {
   "cell_type": "markdown",
   "id": "0d492a0f",
   "metadata": {},
   "source": [
    "# 3. 이중 for 문 "
   ]
  },
  {
   "cell_type": "markdown",
   "id": "c851bfb3",
   "metadata": {},
   "source": [
    "## 3.1. 구구단 (2단부터 9단까지 출력)"
   ]
  },
  {
   "cell_type": "code",
   "execution_count": 25,
   "id": "82828134",
   "metadata": {},
   "outputs": [
    {
     "ename": "NameError",
     "evalue": "name 'XX' is not defined",
     "output_type": "error",
     "traceback": [
      "\u001b[0;31m---------------------------------------------------------------------------\u001b[0m",
      "\u001b[0;31mNameError\u001b[0m                                 Traceback (most recent call last)",
      "\u001b[0;32m/var/folders/2v/1n7kqbx94vq4h18tf43z16240000gn/T/ipykernel_4186/85627216.py\u001b[0m in \u001b[0;36m<module>\u001b[0;34m\u001b[0m\n\u001b[1;32m      1\u001b[0m \u001b[0;31m# 다음 코드의 한줄 한줄이 수행하는 기능을 주석으로 달고, 빈 XXX 에 알맞은 코드를 채워넣으라.\u001b[0m\u001b[0;34m\u001b[0m\u001b[0;34m\u001b[0m\u001b[0;34m\u001b[0m\u001b[0m\n\u001b[1;32m      2\u001b[0m \u001b[0;34m\u001b[0m\u001b[0m\n\u001b[0;32m----> 3\u001b[0;31m \u001b[0;32mfor\u001b[0m \u001b[0mdan\u001b[0m \u001b[0;32min\u001b[0m \u001b[0mrange\u001b[0m\u001b[0;34m(\u001b[0m\u001b[0;36m2\u001b[0m\u001b[0;34m,\u001b[0m \u001b[0mXX\u001b[0m\u001b[0;34m)\u001b[0m \u001b[0;34m:\u001b[0m\u001b[0;34m\u001b[0m\u001b[0;34m\u001b[0m\u001b[0m\n\u001b[0m\u001b[1;32m      4\u001b[0m     \u001b[0mprint\u001b[0m\u001b[0;34m(\u001b[0m\u001b[0;34m'--'\u001b[0m\u001b[0;34m*\u001b[0m \u001b[0;36m10\u001b[0m \u001b[0;34m+\u001b[0m \u001b[0mstr\u001b[0m\u001b[0;34m(\u001b[0m\u001b[0mXXX\u001b[0m\u001b[0;34m)\u001b[0m \u001b[0;34m+\u001b[0m \u001b[0;34m'단 입니다'\u001b[0m \u001b[0;34m+\u001b[0m \u001b[0;34m'--'\u001b[0m\u001b[0;34m*\u001b[0m\u001b[0;36m10\u001b[0m\u001b[0;34m)\u001b[0m\u001b[0;34m\u001b[0m\u001b[0;34m\u001b[0m\u001b[0m\n\u001b[1;32m      5\u001b[0m     \u001b[0;32mfor\u001b[0m \u001b[0mtemp_val\u001b[0m \u001b[0;32min\u001b[0m \u001b[0mrange\u001b[0m\u001b[0;34m(\u001b[0m\u001b[0;36m1\u001b[0m\u001b[0;34m,\u001b[0m \u001b[0mXXX\u001b[0m\u001b[0;34m)\u001b[0m \u001b[0;34m:\u001b[0m\u001b[0;34m\u001b[0m\u001b[0;34m\u001b[0m\u001b[0m\n",
      "\u001b[0;31mNameError\u001b[0m: name 'XX' is not defined"
     ]
    }
   ],
   "source": [
    "# 다음 코드의 한줄 한줄이 수행하는 기능을 주석으로 달고, 빈 XXX 에 알맞은 코드를 채워넣으라. \n",
    "\n",
    "for dan in range(2, XX) : \n",
    "    print('--'* 10 + str(XXX) + '단 입니다' + '--' * 10)\n",
    "    for temp_val in range(1, XXX) : \n",
    "        print('{} x {} = {}'.format(dan, temp_val, dan * temp_val))"
   ]
  },
  {
   "cell_type": "code",
   "execution_count": 27,
   "id": "a5cae38d",
   "metadata": {},
   "outputs": [
    {
     "name": "stdout",
     "output_type": "stream",
     "text": [
      "--------------------2단 입니다--------------------\n",
      "2 x 1 = 2\n",
      "2 x 2 = 4\n",
      "2 x 3 = 6\n",
      "2 x 4 = 8\n",
      "2 x 5 = 10\n",
      "2 x 6 = 12\n",
      "2 x 7 = 14\n",
      "2 x 8 = 16\n",
      "2 x 9 = 18\n",
      "--------------------3단 입니다--------------------\n",
      "3 x 1 = 3\n",
      "3 x 2 = 6\n",
      "3 x 3 = 9\n",
      "3 x 4 = 12\n",
      "3 x 5 = 15\n",
      "3 x 6 = 18\n",
      "3 x 7 = 21\n",
      "3 x 8 = 24\n",
      "3 x 9 = 27\n",
      "--------------------4단 입니다--------------------\n",
      "4 x 1 = 4\n",
      "4 x 2 = 8\n",
      "4 x 3 = 12\n",
      "4 x 4 = 16\n",
      "4 x 5 = 20\n",
      "4 x 6 = 24\n",
      "4 x 7 = 28\n",
      "4 x 8 = 32\n",
      "4 x 9 = 36\n",
      "--------------------5단 입니다--------------------\n",
      "5 x 1 = 5\n",
      "5 x 2 = 10\n",
      "5 x 3 = 15\n",
      "5 x 4 = 20\n",
      "5 x 5 = 25\n",
      "5 x 6 = 30\n",
      "5 x 7 = 35\n",
      "5 x 8 = 40\n",
      "5 x 9 = 45\n",
      "--------------------6단 입니다--------------------\n",
      "6 x 1 = 6\n",
      "6 x 2 = 12\n",
      "6 x 3 = 18\n",
      "6 x 4 = 24\n",
      "6 x 5 = 30\n",
      "6 x 6 = 36\n",
      "6 x 7 = 42\n",
      "6 x 8 = 48\n",
      "6 x 9 = 54\n",
      "--------------------7단 입니다--------------------\n",
      "7 x 1 = 7\n",
      "7 x 2 = 14\n",
      "7 x 3 = 21\n",
      "7 x 4 = 28\n",
      "7 x 5 = 35\n",
      "7 x 6 = 42\n",
      "7 x 7 = 49\n",
      "7 x 8 = 56\n",
      "7 x 9 = 63\n",
      "--------------------8단 입니다--------------------\n",
      "8 x 1 = 8\n",
      "8 x 2 = 16\n",
      "8 x 3 = 24\n",
      "8 x 4 = 32\n",
      "8 x 5 = 40\n",
      "8 x 6 = 48\n",
      "8 x 7 = 56\n",
      "8 x 8 = 64\n",
      "8 x 9 = 72\n",
      "--------------------9단 입니다--------------------\n",
      "9 x 1 = 9\n",
      "9 x 2 = 18\n",
      "9 x 3 = 27\n",
      "9 x 4 = 36\n",
      "9 x 5 = 45\n",
      "9 x 6 = 54\n",
      "9 x 7 = 63\n",
      "9 x 8 = 72\n",
      "9 x 9 = 81\n"
     ]
    }
   ],
   "source": [
    "# 다음 코드의 한줄 한줄이 수행하는 기능을 주석으로 달고, 빈 XXX 에 알맞은 코드를 채워넣으라. \n",
    "\n",
    "for dan in range(2, 10) : \n",
    "    print('--'* 10 + str(dan) + '단 입니다' + '--' * 10 )\n",
    "    for temp_val in range(1, 10) : \n",
    "        print('{} x {} = {}'.format(dan, temp_val, dan * temp_val))"
   ]
  },
  {
   "cell_type": "markdown",
   "id": "4fef42ba",
   "metadata": {},
   "source": [
    "## 3.2. 다음 패턴을 이중 for 문을 이용하여 만들라 "
   ]
  },
  {
   "cell_type": "raw",
   "id": "1e1e53b9",
   "metadata": {},
   "source": [
    "# 그림 "
   ]
  },
  {
   "cell_type": "code",
   "execution_count": null,
   "id": "a723ed59",
   "metadata": {},
   "outputs": [],
   "source": [
    "# 여기에 "
   ]
  },
  {
   "cell_type": "code",
   "execution_count": null,
   "id": "f9a6b927",
   "metadata": {},
   "outputs": [],
   "source": [
    "n = 7\n",
    "# 외부 for 루프는 n번 수행, i는 0,1,2,3,4,5,6 까지 증가\n",
    "for i in range(n):\n",
    "    print (' ' * i + '#')   # 공백을 i번 추가한 후 '#'출력\n"
   ]
  },
  {
   "cell_type": "code",
   "execution_count": 28,
   "id": "b0009a66",
   "metadata": {},
   "outputs": [
    {
     "name": "stdout",
     "output_type": "stream",
     "text": [
      "#\n",
      " #\n",
      "  #\n",
      "   #\n",
      "    #\n",
      "     #\n",
      "      #\n"
     ]
    }
   ],
   "source": [
    "n = 7\n",
    "# 외부 for 루프는 n번 수행, i는 0,1,2,3,4,5,6 까지 증가\n",
    "for i in range(n):\n",
    "    print (' ' * i + '#')   # 공백을 i번 추가한 후 '#'출력\n"
   ]
  },
  {
   "cell_type": "markdown",
   "id": "1751bf60",
   "metadata": {},
   "source": [
    "## 3.3. 이중 for 문을 사용하여 다음 패턴을 만들라. "
   ]
  },
  {
   "cell_type": "code",
   "execution_count": null,
   "id": "8eaefb56",
   "metadata": {},
   "outputs": [],
   "source": [
    "# 그림 "
   ]
  },
  {
   "cell_type": "code",
   "execution_count": null,
   "id": "e92db5a3",
   "metadata": {},
   "outputs": [],
   "source": [
    "# 여기에 "
   ]
  },
  {
   "cell_type": "code",
   "execution_count": 32,
   "id": "6cfe2001",
   "metadata": {},
   "outputs": [
    {
     "name": "stdout",
     "output_type": "stream",
     "text": [
      "     +\n",
      "    +++\n",
      "   +++++\n",
      "  +++++++\n",
      " +++++++++\n"
     ]
    }
   ],
   "source": [
    "n = 5\n",
    "count = 1\n",
    "# 외부 for 루프는 n번 수행, i는 0,1,2,3,4까지 증가\n",
    "for i in range(n, 0, -1):\n",
    "    print (' ' * i + '+' * count)   # 공백을 i번 추가한 후 '#'출력\n",
    "    count += 2\n",
    "    \n"
   ]
  },
  {
   "cell_type": "markdown",
   "id": "e0eba52b",
   "metadata": {},
   "source": [
    "## 3.4. 이중 for 문 사용하여 2에서 10까지 소수 구하기 "
   ]
  },
  {
   "cell_type": "code",
   "execution_count": 33,
   "id": "0bb6c725",
   "metadata": {},
   "outputs": [
    {
     "name": "stdout",
     "output_type": "stream",
     "text": [
      "[2, 3, 5, 7]\n"
     ]
    }
   ],
   "source": [
    "# 다음의 코드 각 줄이 수행하는 기능을 주석으로 달고, 비어있는 XXX 에 알맞은 코드를 작성하라. \n",
    "\n",
    "primes = []\n",
    "for n in range(2, XX):\n",
    "    # 일단 n을 소수라고 두자\n",
    "    is_prime = True\n",
    "    for num in range(2, XXX):    #\n",
    "        if XXX % num == 0:       # \n",
    "            is_prime = False   # \n",
    "\n",
    "    if is_prime:               # \n",
    "        primes.append(XXXX)       # \n",
    "\n",
    "print(primes)\n"
   ]
  },
  {
   "cell_type": "code",
   "execution_count": 34,
   "id": "62ab0ea5",
   "metadata": {},
   "outputs": [
    {
     "name": "stdout",
     "output_type": "stream",
     "text": [
      "[2, 3, 5, 7]\n"
     ]
    }
   ],
   "source": [
    "# 다음의 코드 각 줄이 수행하는 기능을 주석으로 달고, 비어있는 XXX 에 알맞은 코드를 작성하라. \n",
    "\n",
    "primes = []\n",
    "for n in range(2, 11):\n",
    "    # 일단 n을 소수라고 두자\n",
    "    is_prime = True\n",
    "    for num in range(2, n):    #\n",
    "        if n % num == 0:       # \n",
    "            is_prime = False   # \n",
    "\n",
    "    if is_prime:               # \n",
    "        primes.append(n)       # \n",
    "\n",
    "print(primes)\n"
   ]
  },
  {
   "cell_type": "markdown",
   "id": "49925234",
   "metadata": {},
   "source": [
    "# 4. 사용자로부터 1에서 9 사이의 숫자를 입력받아서, 그에 해당하는 구구단을 출력하는 코드를 작성하라. 이 때, 1에서 9 사이 이외의 수가 입력되면 '1에서 9 사이 값을 다시 입력하세요'를 출력하라. "
   ]
  },
  {
   "cell_type": "code",
   "execution_count": null,
   "id": "8d0fd302",
   "metadata": {},
   "outputs": [],
   "source": [
    "# 여기에 "
   ]
  },
  {
   "cell_type": "code",
   "execution_count": 38,
   "id": "f8afe931",
   "metadata": {},
   "outputs": [
    {
     "name": "stdout",
     "output_type": "stream",
     "text": [
      "1에서 9까지의 수를 입력하시오 : 0\n",
      "1에서 9까지의 수를 다시 입력하시오 : 2\n",
      "2 * 1 = 2\n",
      "2 * 2 = 4\n",
      "2 * 3 = 6\n",
      "2 * 4 = 8\n",
      "2 * 5 = 10\n",
      "2 * 6 = 12\n",
      "2 * 7 = 14\n",
      "2 * 8 = 16\n",
      "2 * 9 = 18\n"
     ]
    }
   ],
   "source": [
    "num = int(input('1에서 9까지의 수를 입력하시오 : '))\n",
    "if num not in list(range(1,10)):\n",
    "    num = int(input('1에서 9까지의 수를 다시 입력하시오 : '))\n",
    "\n",
    "for i in range(1,10):\n",
    "    print('{} * {} = {}'.format(num,i,num*i))\n"
   ]
  },
  {
   "cell_type": "markdown",
   "id": "b7b13b16",
   "metadata": {},
   "source": [
    "## 5. 반복문 while "
   ]
  },
  {
   "cell_type": "markdown",
   "id": "1a3bba08",
   "metadata": {},
   "source": [
    "## 5.1. while 문을 사용하여 1-10까지 수를 더해보자. "
   ]
  },
  {
   "cell_type": "code",
   "execution_count": null,
   "id": "82dc87a6",
   "metadata": {},
   "outputs": [],
   "source": [
    "# 다음 코드에서 한줄 한줄이 하는 기능을 주석으로 달고, XXX 로 비어있는 코드를 채우라. \n",
    "\n",
    "n = 10\n",
    "s = 0\n",
    "i = 1\n",
    "while i <= XXX :\n",
    "    s = s + XXXX\n",
    "    i += XX\n",
    "print('1부터 {}까지의 합은 {}'.format(n, s))\n"
   ]
  },
  {
   "cell_type": "code",
   "execution_count": 39,
   "id": "65213c7f",
   "metadata": {},
   "outputs": [
    {
     "name": "stdout",
     "output_type": "stream",
     "text": [
      "1부터 10까지의 합은 55\n"
     ]
    }
   ],
   "source": [
    "# 다음 코드에서 한줄 한줄이 하는 기능을 주석으로 달고, XXX 로 비어있는 코드를 채우라. \n",
    "\n",
    "n = 10\n",
    "s = 0\n",
    "i = 1\n",
    "while i <= n :\n",
    "    s = s + i\n",
    "    i += 1\n",
    "print('1부터 {}까지의 합은 {}'.format(n, s))\n"
   ]
  },
  {
   "cell_type": "markdown",
   "id": "2017cacf",
   "metadata": {},
   "source": [
    "## 5.2. while 문을 활용하여 가위바위보가 들어오면 출력. "
   ]
  },
  {
   "cell_type": "code",
   "execution_count": null,
   "id": "1df6b286",
   "metadata": {},
   "outputs": [],
   "source": [
    "# 다음 코드에서 비어있는 곳을 채우고 주석을 달라. \n",
    "selected = input('가위 바위 보 중에서 선택하세요: ')\n",
    "\n",
    "while selected not in ['가위', '바위', '보']:\n",
    "    selected = input('꼭! 가위, 바위, 보 중에서 선택하세요> ')\n",
    "print('선택한 값은:', selected)\n"
   ]
  },
  {
   "cell_type": "code",
   "execution_count": 40,
   "id": "1f707146",
   "metadata": {},
   "outputs": [
    {
     "name": "stdout",
     "output_type": "stream",
     "text": [
      "가위 바위 보 중에서 선택하세요: 묵\n",
      "꼭! 가위, 바위, 보 중에서 선택하세요> 찌\n",
      "꼭! 가위, 바위, 보 중에서 선택하세요> 빠\n",
      "꼭! 가위, 바위, 보 중에서 선택하세요> 묵\n",
      "꼭! 가위, 바위, 보 중에서 선택하세요> 가위\n",
      "선택한 값은: 가위\n"
     ]
    }
   ],
   "source": [
    "# 다음 코드에서 비어있는 곳을 채우고 주석을 달라. \n",
    "selected = input('가위 바위 보 중에서 선택하세요: ')\n",
    "\n",
    "while selected not in ['가위', '바위', '보']:\n",
    "    selected = input('꼭! 가위, 바위, 보 중에서 선택하세요> ')\n",
    "print('선택한 값은:', selected)\n"
   ]
  },
  {
   "cell_type": "markdown",
   "id": "bf7c3057",
   "metadata": {},
   "source": [
    "## 5.3. 1부터 n 까지 정수를 더하려고 한다. n 이 양수가 아닌 경우, 양수를 입력할 때까지 안내하는 부분을 while 로 작성하라. "
   ]
  },
  {
   "cell_type": "code",
   "execution_count": null,
   "id": "cbd4b70b",
   "metadata": {},
   "outputs": [],
   "source": [
    "# 여기에 "
   ]
  },
  {
   "cell_type": "code",
   "execution_count": 41,
   "id": "4fe62af9",
   "metadata": {},
   "outputs": [
    {
     "name": "stdout",
     "output_type": "stream",
     "text": [
      "어디까지 더할지 양수를 입력하세요:-1\n",
      "합계를 구할 양의 정수를 입력하세요 : -1\n",
      "합계를 구할 양의 정수를 입력하세요 : -2\n",
      "합계를 구할 양의 정수를 입력하세요 : -3\n",
      "합계를 구할 양의 정수를 입력하세요 : 3\n",
      "1부터 3까지의 합은 6\n"
     ]
    }
   ],
   "source": [
    "n = int(input('어디까지 더할지 양수를 입력하세요:'))\n",
    "while n <= 0:  # 양수가 입력될 때 까지 input() 문을 반복 수행함\n",
    "    n = int(input('합계를 구할 양의 정수를 입력하세요 : '))\n",
    "s = 0\n",
    "for i in range(1, n+1):\n",
    "    s = s + i\n",
    "print('1부터 {}까지의 합은 {}'.format(n, s))\n"
   ]
  },
  {
   "cell_type": "markdown",
   "id": "f9a9222c",
   "metadata": {},
   "source": [
    "## 5.4. 문자열을 입력받아, 자음인 동안 출력하고, 모음이 나오면 바로 종료하는 코드 작성. "
   ]
  },
  {
   "cell_type": "code",
   "execution_count": 42,
   "id": "9b0b9b0a",
   "metadata": {},
   "outputs": [
    {
     "name": "stdout",
     "output_type": "stream",
     "text": [
      "P\n",
      "r\n",
      "The end\n"
     ]
    }
   ],
   "source": [
    "# 다음 코드의 각 줄이 수행하는 기능을 주석으로 달고, 비어있는 XX 를 채워넣으라. \n",
    "st = 'Programming'\n",
    "\n",
    "# 자음이 나타나는 동안만 출력하는 기능\n",
    "for ch in XXX :\n",
    "    if XXX in ['a','e','i','o','u']:\n",
    "        break    # 모음일 경우 반복문을 종료한다.\n",
    "    print(XXX)\n",
    "print('The end')\n"
   ]
  },
  {
   "cell_type": "code",
   "execution_count": 43,
   "id": "a7179514",
   "metadata": {},
   "outputs": [
    {
     "name": "stdout",
     "output_type": "stream",
     "text": [
      "P\n",
      "r\n",
      "The end\n"
     ]
    }
   ],
   "source": [
    "st = 'Programming'\n",
    "\n",
    "# 자음이 나타나는 동안만 출력하는 기능\n",
    "for ch in st:\n",
    "    if ch in ['a','e','i','o','u']:\n",
    "        break    # 모음일 경우 반복문을 종료한다.\n",
    "    print(ch)\n",
    "print('The end')\n"
   ]
  },
  {
   "cell_type": "markdown",
   "id": "119c8a25",
   "metadata": {},
   "source": [
    "## 5.5. continue 를 사용하여, 모음이 나오면 출력을 건너뛰도록 하여 자음만 출력되도록 하는 코드 "
   ]
  },
  {
   "cell_type": "code",
   "execution_count": null,
   "id": "146bfb92",
   "metadata": {},
   "outputs": [],
   "source": [
    "# 다음 코드의 각 줄이 수행하는 기능을 주석으로 달고, 비어있는 XX 를 채워넣으라. \n",
    "\n",
    "st = 'Programming'\n",
    "\n",
    "# 자음이 나타날때만 출력하는 기능\n",
    "for XXX in st:\n",
    "    if XXX in ['a','e','i','o','u']:\n",
    "        XXXXXXX     # 모음일 경우 아래 출력을 건너뛴다\n",
    "    print(ch)\n",
    "\n",
    "print('The end')\n"
   ]
  },
  {
   "cell_type": "code",
   "execution_count": 44,
   "id": "40058a4f",
   "metadata": {},
   "outputs": [
    {
     "name": "stdout",
     "output_type": "stream",
     "text": [
      "P\n",
      "r\n",
      "g\n",
      "r\n",
      "m\n",
      "m\n",
      "n\n",
      "g\n",
      "The end\n"
     ]
    }
   ],
   "source": [
    "# 다음 코드의 각 줄이 수행하는 기능을 주석으로 달고, 비어있는 XX 를 채워넣으라. \n",
    "\n",
    "st = 'Programming'\n",
    "\n",
    "# 자음이 나타날때만 출력하는 기능\n",
    "for ch in st:\n",
    "    if ch in ['a','e','i','o','u']:\n",
    "        continue     # 모음일 경우 아래 출력을 건너뛴다\n",
    "    print(ch)\n",
    "\n",
    "print('The end')\n"
   ]
  },
  {
   "cell_type": "markdown",
   "id": "c201641e",
   "metadata": {},
   "source": [
    "## 5.6. 소수란 양의 자연수 중에서 1과 자기 자신이외의 약수를 가지지 않는 수를 말한다. 사용자로부터 양의 정수 n을 입력받은 후 이 숫자가 소수인지 아닌지를 판별하는 프로그램을 작성하시오(힌트 : n을 2부터 n-1까지의 정수로 모두 나누어 본다. 이 때 나누어 떨어지는 원소가 하나라도 있으면 소수가 아니다)."
   ]
  },
  {
   "cell_type": "code",
   "execution_count": null,
   "id": "9aa98212",
   "metadata": {},
   "outputs": [],
   "source": [
    "# 여기에 "
   ]
  },
  {
   "cell_type": "code",
   "execution_count": 45,
   "id": "f55f5ab3",
   "metadata": {},
   "outputs": [
    {
     "name": "stdout",
     "output_type": "stream",
     "text": [
      "숫자를 입력하세요 : 5\n",
      "5 은 소수입니다.\n"
     ]
    }
   ],
   "source": [
    "is_prime = True\n",
    "num = int(input('숫자를 입력하세요 : '))\n",
    "\n",
    "if( num % 2 == 0 ):\n",
    "    is_prime = False  \n",
    "else:\n",
    "    for i in range(3, num, 2):\n",
    "        if num % i == 0:\n",
    "            is_prime = False\n",
    "            break\n",
    "if is_prime == True:\n",
    "    print(num,'은 소수입니다.')\n",
    "else:\n",
    "    print(num,'은 소수가 아닙니다.')"
   ]
  },
  {
   "cell_type": "code",
   "execution_count": null,
   "id": "97585c79",
   "metadata": {},
   "outputs": [],
   "source": []
  }
 ],
 "metadata": {
  "kernelspec": {
   "display_name": "Python 3 (ipykernel)",
   "language": "python",
   "name": "python3"
  },
  "language_info": {
   "codemirror_mode": {
    "name": "ipython",
    "version": 3
   },
   "file_extension": ".py",
   "mimetype": "text/x-python",
   "name": "python",
   "nbconvert_exporter": "python",
   "pygments_lexer": "ipython3",
   "version": "3.8.12"
  }
 },
 "nbformat": 4,
 "nbformat_minor": 5
}
