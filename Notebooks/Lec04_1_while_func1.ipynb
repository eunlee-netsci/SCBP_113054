{
 "cells": [
  {
   "cell_type": "markdown",
   "id": "6a534704",
   "metadata": {},
   "source": [
    "# 0. while 문 "
   ]
  },
  {
   "cell_type": "markdown",
   "id": "c0264b18",
   "metadata": {},
   "source": [
    "## 0.1. while 문을 사용하여 1-10까지 수를 더해보자. "
   ]
  },
  {
   "cell_type": "code",
   "execution_count": null,
   "id": "132ce404",
   "metadata": {},
   "outputs": [],
   "source": [
    "# 여기에 작성 "
   ]
  },
  {
   "cell_type": "markdown",
   "id": "e8056742",
   "metadata": {},
   "source": [
    "## 0.2. for 문을 사용하여 1-10까지 수를 더해보자. "
   ]
  },
  {
   "cell_type": "code",
   "execution_count": null,
   "id": "7acce7fa",
   "metadata": {},
   "outputs": [],
   "source": [
    "# 여기에 "
   ]
  },
  {
   "cell_type": "markdown",
   "id": "23189bc8",
   "metadata": {},
   "source": [
    "## 0.3. while 문을 사용하여 '가위, 바위, 보' 가 들어오면 선택한 값을 출력하고, 그렇지 않은 경우에는 계속 '꼭! 가위 바위 보 중에서 선택하세요!' 를 출력하는 코드 작성"
   ]
  },
  {
   "cell_type": "code",
   "execution_count": null,
   "id": "f80d817c",
   "metadata": {},
   "outputs": [],
   "source": [
    "# 여기에 "
   ]
  },
  {
   "cell_type": "markdown",
   "id": "ead6d3af",
   "metadata": {},
   "source": [
    "## 0.4. 문자열을 입력 받아서, 자음만 출력하고 모음은 출력하지 않는 코드를 while 을 사용하여 작성. "
   ]
  },
  {
   "cell_type": "code",
   "execution_count": null,
   "id": "9133ff79",
   "metadata": {},
   "outputs": [],
   "source": [
    "# 여기에 "
   ]
  },
  {
   "cell_type": "markdown",
   "id": "2de93c1b",
   "metadata": {},
   "source": [
    "## 0.5. 1부터 n 을 입력받아서, n 까지 더하려고 한다. 양수가 아닌 경우, 양수가 나올 때까지 '꼭! 양수를 입력하세요!' 를 출력하는 코드를 작성하라. "
   ]
  },
  {
   "cell_type": "code",
   "execution_count": null,
   "id": "a39af161",
   "metadata": {},
   "outputs": [],
   "source": [
    "# 여기에 "
   ]
  },
  {
   "cell_type": "markdown",
   "id": "4311a502",
   "metadata": {},
   "source": [
    "## 0.6. 소수란 양의 자연수 중에서 1과 자기 자신이외의 약수를 가지지 않는 수를 말한다. 사용자로부터 양의 정수 n을 입력받은 후 이 숫자가 소수인지 아닌지를 판별하는 프로그램을 작성하시오(힌트 : n을 2부터 n-1까지의 정수로 모두 나누어 본다. 이 때 나누어 떨어지는 원소가 하나라도 있으면 소수가 아니다)."
   ]
  },
  {
   "cell_type": "code",
   "execution_count": null,
   "id": "5c59ec6c",
   "metadata": {},
   "outputs": [],
   "source": [
    "# 여기에 "
   ]
  },
  {
   "cell_type": "markdown",
   "id": "57cba707",
   "metadata": {},
   "source": [
    "## 0.7. 여러 영단어를 쉼표로 구분하도록 입력 받아서, 각 문자의 첫글자만 출력하려고 한다. \n",
    "## 그런데, 첫글자가 자음으로 시작하는 경우만 출력하고, 모음인 경우는 건너뛸 것이다. \n",
    "## 코드를 작성하라. "
   ]
  },
  {
   "cell_type": "code",
   "execution_count": null,
   "id": "24991a33",
   "metadata": {},
   "outputs": [],
   "source": [
    "# 여기에 "
   ]
  },
  {
   "cell_type": "markdown",
   "id": "b5f3bdae",
   "metadata": {},
   "source": [
    "# 1. 함수를 정의해보자. "
   ]
  },
  {
   "cell_type": "markdown",
   "id": "a5b9399b",
   "metadata": {},
   "source": [
    "## 1.0. 간단한 예 "
   ]
  },
  {
   "cell_type": "code",
   "execution_count": 17,
   "id": "be3cfdf6",
   "metadata": {},
   "outputs": [],
   "source": [
    "def print_star(n):  # 각각이 하는 역할을 확인하고, 어떤 기능을 하는지 주석으로 적어보자. \n",
    "  print('*' * n)   # 여기서 n 은 무엇인가? \n",
    "                   # 무엇이 출력될까?"
   ]
  },
  {
   "cell_type": "code",
   "execution_count": null,
   "id": "42c82fcb",
   "metadata": {},
   "outputs": [],
   "source": [
    "print_star(3)"
   ]
  },
  {
   "cell_type": "markdown",
   "id": "3550bbe4",
   "metadata": {},
   "source": [
    "## 1.1. 함수를 인풋을 바꾸어 가면서, 세번 호출하여 출력해보자. "
   ]
  },
  {
   "cell_type": "code",
   "execution_count": null,
   "id": "630c670c",
   "metadata": {},
   "outputs": [],
   "source": [
    "# 여기에 "
   ]
  },
  {
   "cell_type": "markdown",
   "id": "e5598966",
   "metadata": {},
   "source": [
    "## 1.2. 별표를 입력한 n 만큼 세줄로 출력하는 함수를 정의해보자. "
   ]
  },
  {
   "cell_type": "code",
   "execution_count": null,
   "id": "d1d63af1",
   "metadata": {},
   "outputs": [],
   "source": [
    "# 여기에 "
   ]
  },
  {
   "cell_type": "markdown",
   "id": "d0f6dfd2",
   "metadata": {},
   "source": [
    "## 1.3. 별표 세줄을 출력하는 함수를 수정하여 '+'를 세줄로 출력하는 함수로 변형해보자. "
   ]
  },
  {
   "cell_type": "code",
   "execution_count": null,
   "id": "b56d14c2",
   "metadata": {},
   "outputs": [],
   "source": [
    "# 여기에 "
   ]
  },
  {
   "cell_type": "markdown",
   "id": "c7e79787",
   "metadata": {},
   "source": [
    "## 1.4. 더하기를 세줄, 별표를 세줄, 다시 더하기를 세줄 출력하도록 함수를 호출하라. "
   ]
  },
  {
   "cell_type": "code",
   "execution_count": null,
   "id": "bfc3032e",
   "metadata": {},
   "outputs": [],
   "source": [
    "# 여기에 "
   ]
  },
  {
   "cell_type": "markdown",
   "id": "a7deac38",
   "metadata": {},
   "source": [
    "## 1.5. 위의 함수에서 세번 출력하는 함수에 for 문을 적용하여, n 과 row 두 가지의 매개변수를 갖는 코드를 만들어보자. "
   ]
  },
  {
   "cell_type": "code",
   "execution_count": null,
   "id": "f643eb94",
   "metadata": {},
   "outputs": [],
   "source": [
    "XXX print_for(XX, XXXX) : \n",
    "    for i in range(XX) : \n",
    "        print('*' * XXXX)"
   ]
  },
  {
   "cell_type": "markdown",
   "id": "5a786b14",
   "metadata": {},
   "source": [
    "# 2. 간단한 연산을 하는 함수 "
   ]
  },
  {
   "cell_type": "markdown",
   "id": "788216fc",
   "metadata": {},
   "source": [
    "## 2.1. 더하기 연산을 하는 함수를 정의해보자. "
   ]
  },
  {
   "cell_type": "code",
   "execution_count": null,
   "id": "c74c19f4",
   "metadata": {},
   "outputs": [],
   "source": [
    "# 다음에 XX 을 알맞게 채워 덧셈을 수행하는 함수를 완성하자. \n",
    "def print_sum(XX, XXX) : \n",
    "    result = XX + XXXX \n",
    "    print('{} 과 {} 의 합은 {} 입니다.'.format(XX, XXX, XXXXX))"
   ]
  },
  {
   "cell_type": "code",
   "execution_count": null,
   "id": "1dc464c2",
   "metadata": {},
   "outputs": [],
   "source": [
    "# 여기에 함수를 호출하여 계산이 잘 되는지 확인해보자. "
   ]
  },
  {
   "cell_type": "markdown",
   "id": "7ee69c79",
   "metadata": {},
   "source": [
    "## 2.2. 매개변수의 갯수를 맞추어야한다. "
   ]
  },
  {
   "cell_type": "code",
   "execution_count": null,
   "id": "598070a3",
   "metadata": {},
   "outputs": [],
   "source": [
    "# 다음을 실행해보자. \n",
    "print_sum(3)"
   ]
  },
  {
   "cell_type": "markdown",
   "id": "313bd063",
   "metadata": {},
   "source": [
    "## 2.3. 두 매개변수로부터 input 을 받아서, 두 수의 곱을 계산하는 함수를 만들어보자. "
   ]
  },
  {
   "cell_type": "code",
   "execution_count": null,
   "id": "c88f2836",
   "metadata": {},
   "outputs": [],
   "source": [
    "# 다음에 XX 을 알맞게 채워 덧셈을 수행하는 함수를 완성하자. \n",
    "def print_sub(xxx, xxx) : \n",
    "    result = xxx - xxx \n",
    "    print('{} 과 {} 의 차는 {} 입니다.'.format(a, b, result))"
   ]
  },
  {
   "cell_type": "markdown",
   "id": "4350cbb1",
   "metadata": {},
   "source": [
    "## 2.4. 2차 방정식의 근을 구하는 함수를 작성해보자. "
   ]
  },
  {
   "cell_type": "code",
   "execution_count": null,
   "id": "cee0ad66",
   "metadata": {},
   "outputs": [],
   "source": [
    "# 여기에 "
   ]
  },
  {
   "cell_type": "markdown",
   "id": "c2fa5b6d",
   "metadata": {},
   "source": [
    "## 2.5. 삼각형의 넓이를 구하는 함수 triangle() 을 작성해보자. "
   ]
  },
  {
   "cell_type": "code",
   "execution_count": null,
   "id": "30065da6",
   "metadata": {},
   "outputs": [],
   "source": [
    "# 여기에 "
   ]
  },
  {
   "cell_type": "markdown",
   "id": "63e9392d",
   "metadata": {},
   "source": [
    "# 3. 반환문 return "
   ]
  },
  {
   "cell_type": "markdown",
   "id": "d3e400d9",
   "metadata": {},
   "source": [
    "## 3.1. 두 수의 합을 반환하는 함수를 작성해보자. "
   ]
  },
  {
   "cell_type": "code",
   "execution_count": null,
   "id": "4bf213e7",
   "metadata": {},
   "outputs": [],
   "source": [
    "def get_sum(XX, XXX) : \n",
    "    temp_sum = XX + XXX \n",
    "    return XXXX"
   ]
  },
  {
   "cell_type": "markdown",
   "id": "acda05ee",
   "metadata": {},
   "source": [
    "## 3.2. 두수의 합 연산 자체를 반환해보자. "
   ]
  },
  {
   "cell_type": "code",
   "execution_count": null,
   "id": "51b436b3",
   "metadata": {},
   "outputs": [],
   "source": [
    "def get_sum(a, b) : \n",
    "    return XXXXX # 여기에 두 값이 더해지는 연산 자체를 넣고 \n",
    "\n",
    "# 여기서 함수를 호출하여 원하는 값이 나오는지 확인해보자. "
   ]
  },
  {
   "cell_type": "markdown",
   "id": "304830db",
   "metadata": {},
   "source": [
    "## 3.3. 튜플로 여러 값들을 반환해보자. "
   ]
  },
  {
   "cell_type": "code",
   "execution_count": 46,
   "id": "bb2e0161",
   "metadata": {},
   "outputs": [],
   "source": [
    "def print_root(a, b, c):\n",
    "    r1 = (-b + (b ** 2 - 4 * a * c) ** 0.5) / (2 * a)\n",
    "    r2 = (-b - (b ** 2 - 4 * a * c) ** 0.5) / (2 * a)\n",
    "    return r1, r2"
   ]
  },
  {
   "cell_type": "code",
   "execution_count": 48,
   "id": "eb1646e4",
   "metadata": {},
   "outputs": [],
   "source": [
    "r1, r2 = print_root(1,2,1)\n"
   ]
  },
  {
   "cell_type": "markdown",
   "id": "323da209",
   "metadata": {},
   "source": [
    "## 3.4. 원의 반지름을 받으면, 원의 넓이와 둘레를 반환하는 코드를 작성해보자. "
   ]
  },
  {
   "cell_type": "code",
   "execution_count": null,
   "id": "beffa111",
   "metadata": {},
   "outputs": [],
   "source": [
    "# 여기에 \n",
    "# pi 는 math 모듈을 import 하여 사용하자. \n",
    "# 원의 넓이: r**2 * pi, 둘레: 2*pi*r"
   ]
  },
  {
   "cell_type": "markdown",
   "id": "526109b9",
   "metadata": {},
   "source": [
    "# 4. 전역변수 "
   ]
  },
  {
   "cell_type": "markdown",
   "id": "df67ae0c",
   "metadata": {},
   "source": [
    "## 4.1. 함수 내부에서 외부에서 정의된 값을 변경하는 경우 "
   ]
  },
  {
   "cell_type": "code",
   "execution_count": null,
   "id": "d1a50589",
   "metadata": {},
   "outputs": [],
   "source": [
    "# (1) 외부에서 정의된 변수를 함수 내부에서 사용하는 경우 \n",
    "def print_sum():\n",
    "    result = a + b\n",
    "    print('print_sum() :', a, '과', b, '의 합은', result, '입니다.')\n",
    "\n",
    "a = 10\n",
    "b = 20\n",
    "print_sum()\n"
   ]
  },
  {
   "cell_type": "code",
   "execution_count": null,
   "id": "4d1f07e4",
   "metadata": {},
   "outputs": [],
   "source": [
    "# (2) 외부에서 정의된 변수가 함수 내부에서 변경되었을 때 어떤 결과가 나올까? \n",
    "def print_sum():\n",
    "    a = 100\n",
    "    b = 200 \n",
    "    result = a + b\n",
    "    print('print_sum() :', a, '과', b, '의 합은', result, '입니다.')\n",
    "\n",
    "a = 10\n",
    "b = 20\n",
    "print_sum()\n",
    "result = a + b \n",
    "print('외부에서 계산한 두 수의 합은 {} 입니다'.format(result))"
   ]
  },
  {
   "cell_type": "markdown",
   "id": "fb311e77",
   "metadata": {},
   "source": [
    "## 4.2. 전역변수의 선언과 활용 "
   ]
  },
  {
   "cell_type": "code",
   "execution_count": null,
   "id": "edbff318",
   "metadata": {},
   "outputs": [],
   "source": [
    "# (3) 변수를 global 로 정의하고, 외부에서 정의된 변수를 함수 내부에서 변경하였을 때 어떤 결과가 나올까? \n",
    "def print_sum():\n",
    "    global a, b\n",
    "    a = 100\n",
    "    b = 200 \n",
    "    result = a + b\n",
    "    print('print_sum() :', a, '과', b, '의 합은', result, '입니다.')\n",
    "\n",
    "a = 10\n",
    "b = 20\n",
    "print_sum()\n",
    "result = a + b \n",
    "print('외부에서 계산한 두 수의 합은 {} 입니다'.format(result))"
   ]
  },
  {
   "cell_type": "markdown",
   "id": "003da7eb",
   "metadata": {},
   "source": [
    "# 5. 도전과제 "
   ]
  },
  {
   "cell_type": "markdown",
   "id": "675bbc66",
   "metadata": {},
   "source": [
    "## 5.1. m과 n이라는 이름의 매개변수를 두 개 입력받아서 이 두 값 중에서 큰 값을 반환하는 max2(m, n) 함수와 작은 값을 반환하는 min2(m, n) 함수를 구현하시오. 100과 200을 인자로 넣어서 호출하여 그 결과를 확인하라."
   ]
  },
  {
   "cell_type": "code",
   "execution_count": null,
   "id": "164ae300",
   "metadata": {},
   "outputs": [],
   "source": [
    "# 여기에 "
   ]
  },
  {
   "cell_type": "markdown",
   "id": "b3b451bf",
   "metadata": {},
   "source": [
    "## 5.2. 사용자로부터 세 정수 a, b, c를 입력받도록 하여라. 그리고 이 세 수의 평균값, 최댓값, 최솟값을 다음과 같이 출력하도록 하여라. 이 때, 세 수를 매개변수로 넘겨받아서 이 세 수의 평균값, 최댓값, 최솟값을 반환하는 mean3(a, b, c), max3(a, b, c), min3(a, b, c) 라는 함수를 각각 정의하고 호출하여라. "
   ]
  },
  {
   "cell_type": "markdown",
   "id": "ccf1bdcc",
   "metadata": {},
   "source": [
    "실행 결과\n",
    "```\n",
    "세 수를 입력하시오 : 10 30 20\n",
    "10, 20, 30의 평균값은 20.0\n",
    "10, 20, 30의 최댓값은 30\n",
    "10, 20, 30의 최솟값은 10\n",
    "```"
   ]
  },
  {
   "cell_type": "code",
   "execution_count": null,
   "id": "c2ca6dd8",
   "metadata": {},
   "outputs": [],
   "source": [
    "# 여기에 "
   ]
  },
  {
   "cell_type": "markdown",
   "id": "6a4fd76a",
   "metadata": {},
   "source": [
    "## 5.3. n1에서 n2까지의 정수의 합을 구하는 함수 sum_range(n1, n2)를 작성하시오. 이 함수를 이용하여 10에서 20까지의 정수의 합과 40에서 100까지의 정수의 합을 구하여출력을 하는 프로그램을 작성하라."
   ]
  },
  {
   "cell_type": "code",
   "execution_count": null,
   "id": "6785303a",
   "metadata": {},
   "outputs": [],
   "source": [
    "# 여기에 "
   ]
  },
  {
   "cell_type": "markdown",
   "id": "edd88415",
   "metadata": {},
   "source": [
    "# 5.4. 피보나치 수열은 첫 번째와 두 번째 항의 값이 모두 1이고(즉, F(0)=1, F(1)=1), 그 다음의 항들은 자신의 위치 바로 앞의 두 항을 더한 값을 갖는 수열이다. 즉 F(n) = F(n-1)+F(n-2)의 값을 갖는다. 피보나치 함수 fibo(n)을 구현한 후, 정수 n을 입력 받아 F(n)의 값을 출력하는 코드를 작성하라(주의 : fibo(0)은 1이고 fibo(1)도 1이 된다)"
   ]
  },
  {
   "cell_type": "markdown",
   "id": "d630181c",
   "metadata": {},
   "source": [
    "실행 결과\n",
    "```\n",
    "fibo(  0) =       1\n",
    "fibo(  1) =       1\n",
    "fibo(  2) =       2\n",
    "fibo(  3) =       3\n",
    "fibo(  4) =       5\n",
    "fibo(  5) =       8\n",
    "fibo(  6) =      13\n",
    "fibo(  7) =      21\n",
    "fibo(  8) =      34\n",
    "fibo(  9) =      55\n",
    "fibo( 10) =      89\n",
    "fibo( 11) =     144\n",
    "fibo( 12) =     233\n",
    "fibo( 13) =     377\n",
    "fibo( 14) =     610\n",
    "fibo( 15) =     987\n",
    "```"
   ]
  },
  {
   "cell_type": "code",
   "execution_count": null,
   "id": "2d01b248",
   "metadata": {},
   "outputs": [],
   "source": [
    "# 여기에 "
   ]
  }
 ],
 "metadata": {
  "kernelspec": {
   "display_name": "Python 3 (ipykernel)",
   "language": "python",
   "name": "python3"
  },
  "language_info": {
   "codemirror_mode": {
    "name": "ipython",
    "version": 3
   },
   "file_extension": ".py",
   "mimetype": "text/x-python",
   "name": "python",
   "nbconvert_exporter": "python",
   "pygments_lexer": "ipython3",
   "version": "3.8.12"
  }
 },
 "nbformat": 4,
 "nbformat_minor": 5
}
