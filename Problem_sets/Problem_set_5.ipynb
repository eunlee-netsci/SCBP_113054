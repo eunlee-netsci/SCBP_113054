{
 "cells": [
  {
   "cell_type": "markdown",
   "id": "cc5c2010",
   "metadata": {},
   "source": [
    "## 1. '당신은 성인인가요(성인이면 1, 미성년자면 0)' 을 지시문으로 넣어서, 성인인지 미성년인지를 입력받은 다음, 1 이 입력되었다면 '세계 여행을 하셨나요 (했으면 1, 하지 않았으면 0)' 질문을 통해 여행 여부를 입력받아서, '당신은 세계 여행을 한 성인입니다' 혹은 '당신은 세계 여행을 할 성인입니다'를 출력하도록 한다.\n",
    "## 0 이 입력된 경우도 여행 여부를 물어본 후, '당신은 세계 여행을 한 미성년자입니다' 혹은 '당신은 세계 여행을 할 미성년자입니다' 를 출력하도록 한다. "
   ]
  },
  {
   "cell_type": "code",
   "execution_count": null,
   "id": "fd7bbee0",
   "metadata": {},
   "outputs": [],
   "source": [
    "# 여기에 "
   ]
  },
  {
   "cell_type": "markdown",
   "id": "df2adb1b",
   "metadata": {},
   "source": [
    "## 2. 사용자로부터 세 개의 정수를 입력받아, 가장 작은 정수부터 큰 수까지 정렬하여 출력하는 프로그램을 if-else 문으로 작성하라. "
   ]
  },
  {
   "cell_type": "code",
   "execution_count": null,
   "id": "d1f4bc44",
   "metadata": {},
   "outputs": [],
   "source": [
    "# 여기에 "
   ]
  },
  {
   "cell_type": "markdown",
   "id": "9025906b",
   "metadata": {},
   "source": [
    "## 3. 중심이 원점 (0,0) 에 있고, 반지름이 5인 원이 있다고 하자. 사용자로부터 x 와 y 좌표를 입력 받은 후, 입력받은 점의 좌표 (x,y) 가 원의 내부에 있으면 '원의 내부에 있음'\n",
    "## 원의 외부에 있으면 '원의 외부에 있음'을 출력하는 프로그램을 작성하라. \n",
    "## (힌트) 어떤 점이 원점과의 거리가 반지름보다 크면 원의 외부에 있고, 반지름보다 작거나 크면 원의 내부에 있다고 판단할 수 있다. "
   ]
  },
  {
   "cell_type": "code",
   "execution_count": null,
   "id": "6c1e3bb9",
   "metadata": {},
   "outputs": [],
   "source": [
    "# 여기에 "
   ]
  },
  {
   "cell_type": "markdown",
   "id": "faebe29a",
   "metadata": {},
   "source": [
    "## 4. 나이가 19세 이상이고, 키가 150 cm 이상이어야 탈 수 있는 놀이기구가 있다. 사용자로부터 나이와 키를 입력받아서, 이 놀이기구에 탈수 있는지 없는지 판단하려고 한다. \n",
    "## 나이와 키를 입력받고, 조건식에 and 와 if-else 를 사용하여, 탈 수 있는 조건이 되면 '입장할 수 있습니다'를, 조건이 하나라도 맞지 않으면 '탈 수 없습니다'\n",
    "## 를 출력하는 프로그램을 작성하라. "
   ]
  },
  {
   "cell_type": "code",
   "execution_count": null,
   "id": "45d9465f",
   "metadata": {},
   "outputs": [],
   "source": [
    "# 여기에 "
   ]
  }
 ],
 "metadata": {
  "kernelspec": {
   "display_name": "Python 3 (ipykernel)",
   "language": "python",
   "name": "python3"
  },
  "language_info": {
   "codemirror_mode": {
    "name": "ipython",
    "version": 3
   },
   "file_extension": ".py",
   "mimetype": "text/x-python",
   "name": "python",
   "nbconvert_exporter": "python",
   "pygments_lexer": "ipython3",
   "version": "3.8.12"
  }
 },
 "nbformat": 4,
 "nbformat_minor": 5
}
