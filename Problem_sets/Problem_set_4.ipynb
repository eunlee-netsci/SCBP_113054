{
 "cells": [
  {
   "cell_type": "markdown",
   "id": "263088a7",
   "metadata": {},
   "source": [
    "# 0. 리스트 a = [1,2,3] 이다. for 문을 사용하여 전체 인덱스를 훑으면서, 각 값에서 1 씩 증가시켜 새로운 리스트를 만들고, 출력하는 코드를 작성하라. "
   ]
  },
  {
   "cell_type": "code",
   "execution_count": 1,
   "id": "50b9998f",
   "metadata": {},
   "outputs": [
    {
     "name": "stdout",
     "output_type": "stream",
     "text": [
      "[2, 3, 4]\n"
     ]
    }
   ],
   "source": [
    "a = [1,2,3] # a = [1,2,3]\n",
    "new_a = [] # 비어있는 새로운 리스트 new_a = [] 를 만든다. \n",
    "for idx in range(0, len(a)) : # range(start, end + 1) 을 for 문에 넣어서 전체 인덱스를 살펴볼 수 있게 한다. \n",
    "    x = a[idx] #   x = a[인덱스]\n",
    "    x += 1 \n",
    "    new_a.append(x) #   새로운 리스트 new_a.append(x) 하여 값을 추가한다. \n",
    "print(new_a) # 출력한다. \n"
   ]
  },
  {
   "cell_type": "markdown",
   "id": "48bf6c78",
   "metadata": {},
   "source": [
    "# 1. 사용자로부터 n 개의 값을 입력 받은 다음, 입력된 값들의 평균과 표준편차를 구하여 출력하는 스크립트를 작성하라 (기존 함수 사용 X, 연산자 +, / , ** 사용하라) "
   ]
  },
  {
   "cell_type": "code",
   "execution_count": 2,
   "id": "7099a974",
   "metadata": {},
   "outputs": [
    {
     "name": "stdout",
     "output_type": "stream",
     "text": [
      "계산할 정수들을 쉼표로 구분하여 입력하세요:1,2,3\n",
      "values 는 1,2,3\n",
      "new list 는 [1, 2, 3]\n",
      "평균은 2.0 이고, 표준편차는 0.816496580927726 입니다\n"
     ]
    }
   ],
   "source": [
    "values = input('계산할 정수들을 쉼표로 구분하여 입력하세요:')\n",
    "print('values 는', values)\n",
    "\n",
    "''' 1. 입력받은 값들을 , 로 분류한 후 정수로 바꾸어 새로운 리스트에 저장'''\n",
    "new_list = [] \n",
    "for temp_val in values.split(','): # 임의의 갯수 n 개의 값을 입력받는다. \n",
    "    new_list.append(int(temp_val)) # 분류된 아이템들을 정수로 바꾸어 새로운 리스트에 추가. \n",
    "    \n",
    "print('new list 는', new_list)\n",
    "\n",
    "''' 2.  입력받은 값들의 평균 계산'''\n",
    "total_sum = 0 \n",
    "\n",
    "for idx in range(0, len(new_list)) : \n",
    "    total_sum += new_list[idx]\n",
    "avg = total_sum / len(new_list) # 평균 \n",
    "\n",
    "''' 3. 표준 편차는 (값 - 평균)**2 의 총합을 나눈것에 루트'''\n",
    "diff_sum = 0 \n",
    "\n",
    "for idx in range(0, len(new_list)) : \n",
    "    temp_diff_sq = (new_list[idx] - avg)**2 \n",
    "    diff_sum += temp_diff_sq \n",
    "\n",
    "var = diff_sum / len(new_list)\n",
    "std = var ** (1/2)\n",
    "    \n",
    "    \n",
    "# '평균은 (평균값)이고, 표준편차는 (표준편차) 입니다'를 출력하라. \n",
    "print('평균은 {} 이고, 표준편차는 {} 입니다'.format(avg, std))"
   ]
  },
  {
   "cell_type": "markdown",
   "id": "023977d1",
   "metadata": {},
   "source": [
    "# 2. 다음 리스트를 한칸씩 왼쪽으로 이동하여 저장하는 코드를 작성하라. "
   ]
  },
  {
   "cell_type": "markdown",
   "id": "211bf49c",
   "metadata": {},
   "source": [
    "### foods = ['pizza', 'cola','dduk', 'apple'] \n",
    "### new_foods = ['cola', 'dduk', 'apple', 'pizza']"
   ]
  },
  {
   "cell_type": "code",
   "execution_count": 5,
   "id": "b1bbad9b",
   "metadata": {},
   "outputs": [
    {
     "name": "stdout",
     "output_type": "stream",
     "text": [
      "['cola', 'dduk', 'apple', 'pizza']\n"
     ]
    }
   ],
   "source": [
    "foods = ['pizza', 'cola','dduk', 'apple'] # 다음 리스트를 작성하라: foods = ['pizza', 'cola','dduk', 'apple']\n",
    "# range() 함수를 for 문에 적용하여 인덱스를 변화시켜가면서, index 를 한칸씩 줄여서 아이템을 위치시킨다. (여러줄)\n",
    "temp = foods[0] # 'pizza'\n",
    "  \n",
    "for idx in range(1, len(foods)):\n",
    "    foods[idx - 1] = foods[idx]\n",
    "\n",
    "foods[len(foods) -1] = temp\n",
    "print(foods)"
   ]
  },
  {
   "cell_type": "markdown",
   "id": "8ada104f",
   "metadata": {},
   "source": [
    "# 3. 숫자를 입력받아, if-else 문을 사용하여 짝수인지 홀수 인지를 출력하는 코드를 작성하라. "
   ]
  },
  {
   "cell_type": "code",
   "execution_count": null,
   "id": "53dd73d2",
   "metadata": {},
   "outputs": [],
   "source": [
    "num = int(input('숫자를 입력하세요:')) # 숫자를 입력받으라. \n",
    "if num % 2 == 1 : # 나머지 연산자와 if-else 문을 사용하여 나머지가 1이면 '정수 (정수값)는 홀수입니다.'\n",
    "    print('정수는 홀수 입니다.')\n",
    "else : # 나머지가 0 이면, '정수 (정수값)는 짝수입니다.' 를 출력하는 코드를 작성하라. \n",
    "    print('정수는 짝수 입니다.')"
   ]
  },
  {
   "cell_type": "markdown",
   "id": "29a32dc6",
   "metadata": {},
   "source": [
    "## 4. 문자열 'aaaabbb'일 때, 이를 압축하는 방법으로 'a4b3'과 같이 문자와 그 반복횟수를 표시할 수 있을 것이다. 문자열 'aaaabccccaaaaacccfg'에서 같은 문자가 있을 경우 이를 'a4b1c4a5c3f1g1' 처럼 압축하는 코드를 작성하라.\n",
    "\n"
   ]
  },
  {
   "cell_type": "code",
   "execution_count": 10,
   "id": "7a675651",
   "metadata": {},
   "outputs": [
    {
     "name": "stdout",
     "output_type": "stream",
     "text": [
      "aaaabccccaaaaacccfg 는  a4b1c4a5c3f1g1\n"
     ]
    }
   ],
   "source": [
    "src = 'aaaabccccaaaaacccfg'\n",
    "prev = src[0]\n",
    "count = 1\n",
    "form = ''\n",
    "\n",
    "for i in range(1, len(src)):\n",
    "    new_prev = src[i]\n",
    "    if prev == new_prev :\n",
    "      count += 1\n",
    "    else:\n",
    "      form = form + prev + str(count)\n",
    "      prev = new_prev\n",
    "      count = 1\n",
    "\n",
    "print(src, '는 ', form + prev + str(count))"
   ]
  },
  {
   "cell_type": "code",
   "execution_count": null,
   "id": "83c0ab87",
   "metadata": {},
   "outputs": [],
   "source": []
  }
 ],
 "metadata": {
  "kernelspec": {
   "display_name": "Python 3 (ipykernel)",
   "language": "python",
   "name": "python3"
  },
  "language_info": {
   "codemirror_mode": {
    "name": "ipython",
    "version": 3
   },
   "file_extension": ".py",
   "mimetype": "text/x-python",
   "name": "python",
   "nbconvert_exporter": "python",
   "pygments_lexer": "ipython3",
   "version": "3.8.12"
  }
 },
 "nbformat": 4,
 "nbformat_minor": 5
}
