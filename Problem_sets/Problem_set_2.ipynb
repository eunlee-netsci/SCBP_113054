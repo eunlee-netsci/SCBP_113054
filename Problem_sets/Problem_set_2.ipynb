{
 "cells": [
  {
   "cell_type": "markdown",
   "metadata": {
    "id": "lOOxqUDxH20b"
   },
   "source": [
    "# **Lec1-2. Problem set 2**"
   ]
  },
  {
   "cell_type": "markdown",
   "metadata": {
    "id": "wHU1mJcv5ipO"
   },
   "source": [
    "## 1. 다음 코드는 어디서 에러가 발생하는가? "
   ]
  },
  {
   "cell_type": "code",
   "execution_count": null,
   "metadata": {},
   "outputs": [],
   "source": [
    "width = 20\n",
    "height = 40\n",
    "area = ( width * Height ) \n",
    "print('사각형의 면적', area)"
   ]
  },
  {
   "cell_type": "markdown",
   "metadata": {},
   "source": [
    "## 1-1. 에러의 이유를 설명하라 (Markdown 으로 )"
   ]
  },
  {
   "cell_type": "markdown",
   "metadata": {},
   "source": [
    "###### -> 여기에 "
   ]
  },
  {
   "cell_type": "markdown",
   "metadata": {},
   "source": [
    "## 1-2. 에러를 수정하여 다시 실행하라. "
   ]
  },
  {
   "cell_type": "code",
   "execution_count": 2,
   "metadata": {},
   "outputs": [],
   "source": [
    "# 여기에 작성 "
   ]
  },
  {
   "cell_type": "markdown",
   "metadata": {
    "id": "Huz6AcDM75qz"
   },
   "source": [
    "## 2. input() 으로 가로, 세로, 높이를 입력받아 직육면체의 부피를 계산하는 코드를 작성하라.\n"
   ]
  },
  {
   "cell_type": "code",
   "execution_count": null,
   "metadata": {},
   "outputs": [],
   "source": [
    "# 여기에 가로를 cm 단위로 입력하라는 지시문과 함께 x 에 입력 받으라. \n",
    "# 여기에 세로를 cm 단위로 입력하라는 지시문과 함께 y 에 입력 받으라. \n",
    "# 여기에 높이를 cm 단위로 입력하라는 지시문과 함께 z 에 입력 받으라. \n",
    "# 부피를 계산하여 v 라는 변수에 할당하는 코드를 작성하여라. \n",
    "# '가로 (x 값) cm, 세로 (y 값) cm, 높이 (z 값) cm 인 직육면체의 부피는 (v 값) 입니다' 라고 출력하라. "
   ]
  },
  {
   "cell_type": "markdown",
   "metadata": {
    "id": "UwczSls-5d2D"
   },
   "source": [
    "## 3. 다음 코드의 문제는 무엇인가? \n",
    "\n"
   ]
  },
  {
   "cell_type": "code",
   "execution_count": null,
   "metadata": {},
   "outputs": [],
   "source": [
    "1st_year = 30\n",
    "2nd_year = 30\n",
    "3rd_year = 16\n",
    "all_years = 1st_year + 2nd_year + 3rd_year\n",
    "print(all_years)"
   ]
  },
  {
   "cell_type": "markdown",
   "metadata": {},
   "source": [
    "## 4. 정수를 입력받아, 짝수인지 홀수인지 확인하는 코드를 작성하라. "
   ]
  },
  {
   "cell_type": "code",
   "execution_count": 3,
   "metadata": {},
   "outputs": [],
   "source": [
    "# 정수를 입력 받는다. \n",
    "# '이 수가 짝수인가? 2로 나누면 나머지가 (나머지 값) 이다' 를 출력하도록 한다. "
   ]
  },
  {
   "cell_type": "markdown",
   "metadata": {},
   "source": [
    "## 5. 세자리 정수를 입력받아, 백의 자리, 십의 자리, 일의 자리를 숫자를 각각 출력하도록 한다. "
   ]
  },
  {
   "cell_type": "code",
   "execution_count": null,
   "metadata": {},
   "outputs": [],
   "source": [
    "# num 이라는 변수에 세자리 정수를 입력하라는 메시지와 input() 함수를 활용하여 세자리 정수를 입력하도록 하라. \n",
    "# hundreds 변수에 입력받은 정수의 백의 자리 숫자만 저장한다. \n",
    "# tens 변수에 입력받은 정수의 십의 자리 숫자만 저장한다. \n",
    "# ones 변수에 입력받은 정수의 일의 자리 숫자만 저장한다. \n",
    "# (간단히 배운 연산자들을 활용하여 각 자리 숫자를 구하기 위해 연산을 수행해야한다.)"
   ]
  }
 ],
 "metadata": {
  "colab": {
   "collapsed_sections": [],
   "name": "Problem_set_1.ipynb",
   "provenance": []
  },
  "kernelspec": {
   "display_name": "Python 3 (ipykernel)",
   "language": "python",
   "name": "python3"
  },
  "language_info": {
   "codemirror_mode": {
    "name": "ipython",
    "version": 3
   },
   "file_extension": ".py",
   "mimetype": "text/x-python",
   "name": "python",
   "nbconvert_exporter": "python",
   "pygments_lexer": "ipython3",
   "version": "3.8.12"
  }
 },
 "nbformat": 4,
 "nbformat_minor": 1
}
