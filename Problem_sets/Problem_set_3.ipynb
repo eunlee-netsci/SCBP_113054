{
 "cells": [
  {
   "cell_type": "markdown",
   "id": "48bf6c78",
   "metadata": {},
   "source": [
    "# 1. 신장과 체중을 입력받아, BMI 를 계산하는 코드를 작성해보자. "
   ]
  },
  {
   "cell_type": "code",
   "execution_count": null,
   "id": "7099a974",
   "metadata": {},
   "outputs": [],
   "source": [
    "# 신장을 입력하도록 지시하여, input() 을 사용하여 입력 받아 변수에 저장한다. \n",
    "# 체중을 입력하도록 지시하여, input() 을 사용하여 입력 받아 변수에 저장한다.\n",
    "# BMI = 몸무게/(키의 제곱) 이다. 입력 받은 값들을 사용하여 BMI 를 계산하고, 변수에 저장. \n",
    "# '당신의 BMI 는 (BMI 값) 입니다' 를 출력하도록 한다. \n"
   ]
  },
  {
   "cell_type": "markdown",
   "id": "023977d1",
   "metadata": {},
   "source": [
    "# 2. 삼각형의 밑변과 높이를 입력받아서, 빗변을 계산하는 코드를 작성하라. "
   ]
  },
  {
   "cell_type": "code",
   "execution_count": null,
   "id": "b1bbad9b",
   "metadata": {},
   "outputs": [],
   "source": [
    "# input() 함수를 사용하여, 밑변의 길이를 입력받아 변수에 저장. \n",
    "# input() 함수를 사용하여, 높이를 입력받아 변수에 저장. \n",
    "# 빗변을 계산하여 변수에 저장. \n",
    "# '밑변이 (밑변 값) 이고, 높이가 (높이 값) 인 삼각형의 빗변은 (빗변 값) 입니다.' 를 출력. "
   ]
  },
  {
   "cell_type": "markdown",
   "id": "29a32dc6",
   "metadata": {},
   "source": [
    "## 3. 자동 판매기를 시뮬레이션하는 프로그램을 작성해보자. 자동 판매기는 사용자가 투입한 돈을 input() 으로 입력받고, 물건값은 random module 을 사용해서, 입력된 물건값 이하의 임의의 수로 결정한다.  물건값은 100원 단위로 떨어지도록 한다. 프로그램은 받은 돈과 물건값을 출력하고, 거스름돈을 출력한다. 자판기는 500원과 100원으로만 거스름돈을 줄 수 있다. 따라서, 마지막으로 자판기는 500원 짜리 동전이 몇개 필요한지, 100원짜리 동전이 몇개 필요한지 출력해 준다. \n"
   ]
  },
  {
   "cell_type": "code",
   "execution_count": null,
   "id": "7a675651",
   "metadata": {},
   "outputs": [],
   "source": [
    "# random module 을 import 한다. \n",
    "# 사용자가 투입한 돈을 input() 함수로 받는다. \n",
    "# 물건값을 랜덤모듈 함수를 사용하여 임의의 100 단위 수로 투입된 돈 이내 범위에서 생성. \n",
    "# 잔돈을 거슬러주기위해 필요한 500원, 100원 짜리 갯수를 결정한다 (코드가 여러줄이 될 것)\n",
    "# 입력받은 물건값과 잔돈, 잔돈을 돌려주는데 필요한 500원과 100원 짜리 갯수를 출력. "
   ]
  },
  {
   "cell_type": "code",
   "execution_count": null,
   "id": "48cd1156",
   "metadata": {},
   "outputs": [],
   "source": []
  }
 ],
 "metadata": {
  "kernelspec": {
   "display_name": "Python 3 (ipykernel)",
   "language": "python",
   "name": "python3"
  },
  "language_info": {
   "codemirror_mode": {
    "name": "ipython",
    "version": 3
   },
   "file_extension": ".py",
   "mimetype": "text/x-python",
   "name": "python",
   "nbconvert_exporter": "python",
   "pygments_lexer": "ipython3",
   "version": "3.8.12"
  }
 },
 "nbformat": 4,
 "nbformat_minor": 5
}
